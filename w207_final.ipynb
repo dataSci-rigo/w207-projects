{
  "nbformat": 4,
  "nbformat_minor": 0,
  "metadata": {
    "colab": {
      "name": "w207_final.ipynb",
      "version": "0.3.2",
      "provenance": [],
      "collapsed_sections": [
        "o_tmFHutvKkf"
      ],
      "include_colab_link": true
    },
    "kernelspec": {
      "name": "python3",
      "display_name": "Python 3"
    }
  },
  "cells": [
    {
      "cell_type": "markdown",
      "metadata": {
        "id": "view-in-github",
        "colab_type": "text"
      },
      "source": [
        "<a href=\"https://colab.research.google.com/github/dataSci-rigo/w207-projects/blob/master/w207_final.ipynb\" target=\"_parent\"><img src=\"https://colab.research.google.com/assets/colab-badge.svg\" alt=\"Open In Colab\"/></a>"
      ]
    },
    {
      "cell_type": "code",
      "metadata": {
        "id": "siY3qelwkGpA",
        "colab_type": "code",
        "colab": {}
      },
      "source": [
        "import pandas as pd\n",
        "import numpy as np\n",
        "import sklearn\n",
        "import matplotlib.pyplot as plt\n",
        "\n",
        "np.random.seed(0)"
      ],
      "execution_count": 0,
      "outputs": []
    },
    {
      "cell_type": "code",
      "metadata": {
        "id": "OsfXDLB76OLx",
        "colab_type": "code",
        "colab": {
          "base_uri": "https://localhost:8080/",
          "height": 54
        },
        "outputId": "e495752b-fb4d-41d0-f082-e6d185997958"
      },
      "source": [
        "!pip install -U -q PyDrive\n",
        "from pydrive.auth import GoogleAuth\n",
        "from pydrive.drive import GoogleDrive\n",
        "from google.colab import auth\n",
        "from oauth2client.client import GoogleCredentials\n",
        "# Authenticate and create the PyDrive client.\n",
        "auth.authenticate_user()\n",
        "gauth = GoogleAuth()\n",
        "gauth.credentials = GoogleCredentials.get_application_default()\n",
        "drive = GoogleDrive(gauth)\n",
        "#drive=GoogleDrive(4/iQEapMjjZP0ngyzZdGQsb1VhT8Hy3GEhw3R3CHr4yo4GFPHi08aFUUk)\n"
      ],
      "execution_count": 23,
      "outputs": [
        {
          "output_type": "stream",
          "text": [
            "\u001b[?25l\r\u001b[K     |▎                               | 10kB 16.7MB/s eta 0:00:01\r\u001b[K     |▋                               | 20kB 1.8MB/s eta 0:00:01\r\u001b[K     |█                               | 30kB 2.6MB/s eta 0:00:01\r\u001b[K     |█▎                              | 40kB 1.7MB/s eta 0:00:01\r\u001b[K     |█▋                              | 51kB 2.1MB/s eta 0:00:01\r\u001b[K     |██                              | 61kB 2.5MB/s eta 0:00:01\r\u001b[K     |██▎                             | 71kB 2.9MB/s eta 0:00:01\r\u001b[K     |██▋                             | 81kB 3.3MB/s eta 0:00:01\r\u001b[K     |███                             | 92kB 3.7MB/s eta 0:00:01\r\u001b[K     |███▎                            | 102kB 2.8MB/s eta 0:00:01\r\u001b[K     |███▋                            | 112kB 2.8MB/s eta 0:00:01\r\u001b[K     |████                            | 122kB 2.8MB/s eta 0:00:01\r\u001b[K     |████▎                           | 133kB 2.8MB/s eta 0:00:01\r\u001b[K     |████▋                           | 143kB 2.8MB/s eta 0:00:01\r\u001b[K     |█████                           | 153kB 2.8MB/s eta 0:00:01\r\u001b[K     |█████▎                          | 163kB 2.8MB/s eta 0:00:01\r\u001b[K     |█████▋                          | 174kB 2.8MB/s eta 0:00:01\r\u001b[K     |██████                          | 184kB 2.8MB/s eta 0:00:01\r\u001b[K     |██████▎                         | 194kB 2.8MB/s eta 0:00:01\r\u001b[K     |██████▋                         | 204kB 2.8MB/s eta 0:00:01\r\u001b[K     |███████                         | 215kB 2.8MB/s eta 0:00:01\r\u001b[K     |███████▎                        | 225kB 2.8MB/s eta 0:00:01\r\u001b[K     |███████▋                        | 235kB 2.8MB/s eta 0:00:01\r\u001b[K     |████████                        | 245kB 2.8MB/s eta 0:00:01\r\u001b[K     |████████▎                       | 256kB 2.8MB/s eta 0:00:01\r\u001b[K     |████████▋                       | 266kB 2.8MB/s eta 0:00:01\r\u001b[K     |█████████                       | 276kB 2.8MB/s eta 0:00:01\r\u001b[K     |█████████▎                      | 286kB 2.8MB/s eta 0:00:01\r\u001b[K     |█████████▋                      | 296kB 2.8MB/s eta 0:00:01\r\u001b[K     |██████████                      | 307kB 2.8MB/s eta 0:00:01\r\u001b[K     |██████████▎                     | 317kB 2.8MB/s eta 0:00:01\r\u001b[K     |██████████▋                     | 327kB 2.8MB/s eta 0:00:01\r\u001b[K     |███████████                     | 337kB 2.8MB/s eta 0:00:01\r\u001b[K     |███████████▎                    | 348kB 2.8MB/s eta 0:00:01\r\u001b[K     |███████████▋                    | 358kB 2.8MB/s eta 0:00:01\r\u001b[K     |████████████                    | 368kB 2.8MB/s eta 0:00:01\r\u001b[K     |████████████▎                   | 378kB 2.8MB/s eta 0:00:01\r\u001b[K     |████████████▋                   | 389kB 2.8MB/s eta 0:00:01\r\u001b[K     |█████████████                   | 399kB 2.8MB/s eta 0:00:01\r\u001b[K     |█████████████▎                  | 409kB 2.8MB/s eta 0:00:01\r\u001b[K     |█████████████▋                  | 419kB 2.8MB/s eta 0:00:01\r\u001b[K     |██████████████                  | 430kB 2.8MB/s eta 0:00:01\r\u001b[K     |██████████████▎                 | 440kB 2.8MB/s eta 0:00:01\r\u001b[K     |██████████████▋                 | 450kB 2.8MB/s eta 0:00:01\r\u001b[K     |███████████████                 | 460kB 2.8MB/s eta 0:00:01\r\u001b[K     |███████████████▎                | 471kB 2.8MB/s eta 0:00:01\r\u001b[K     |███████████████▋                | 481kB 2.8MB/s eta 0:00:01\r\u001b[K     |████████████████                | 491kB 2.8MB/s eta 0:00:01\r\u001b[K     |████████████████▎               | 501kB 2.8MB/s eta 0:00:01\r\u001b[K     |████████████████▋               | 512kB 2.8MB/s eta 0:00:01\r\u001b[K     |█████████████████               | 522kB 2.8MB/s eta 0:00:01\r\u001b[K     |█████████████████▎              | 532kB 2.8MB/s eta 0:00:01\r\u001b[K     |█████████████████▋              | 542kB 2.8MB/s eta 0:00:01\r\u001b[K     |██████████████████              | 552kB 2.8MB/s eta 0:00:01\r\u001b[K     |██████████████████▎             | 563kB 2.8MB/s eta 0:00:01\r\u001b[K     |██████████████████▋             | 573kB 2.8MB/s eta 0:00:01\r\u001b[K     |███████████████████             | 583kB 2.8MB/s eta 0:00:01\r\u001b[K     |███████████████████▎            | 593kB 2.8MB/s eta 0:00:01\r\u001b[K     |███████████████████▋            | 604kB 2.8MB/s eta 0:00:01\r\u001b[K     |████████████████████            | 614kB 2.8MB/s eta 0:00:01\r\u001b[K     |████████████████████▎           | 624kB 2.8MB/s eta 0:00:01\r\u001b[K     |████████████████████▋           | 634kB 2.8MB/s eta 0:00:01\r\u001b[K     |█████████████████████           | 645kB 2.8MB/s eta 0:00:01\r\u001b[K     |█████████████████████▎          | 655kB 2.8MB/s eta 0:00:01\r\u001b[K     |█████████████████████▋          | 665kB 2.8MB/s eta 0:00:01\r\u001b[K     |██████████████████████          | 675kB 2.8MB/s eta 0:00:01\r\u001b[K     |██████████████████████▎         | 686kB 2.8MB/s eta 0:00:01\r\u001b[K     |██████████████████████▋         | 696kB 2.8MB/s eta 0:00:01\r\u001b[K     |███████████████████████         | 706kB 2.8MB/s eta 0:00:01\r\u001b[K     |███████████████████████▎        | 716kB 2.8MB/s eta 0:00:01\r\u001b[K     |███████████████████████▋        | 727kB 2.8MB/s eta 0:00:01\r\u001b[K     |████████████████████████        | 737kB 2.8MB/s eta 0:00:01\r\u001b[K     |████████████████████████▎       | 747kB 2.8MB/s eta 0:00:01\r\u001b[K     |████████████████████████▋       | 757kB 2.8MB/s eta 0:00:01\r\u001b[K     |████████████████████████▉       | 768kB 2.8MB/s eta 0:00:01\r\u001b[K     |█████████████████████████▏      | 778kB 2.8MB/s eta 0:00:01\r\u001b[K     |█████████████████████████▌      | 788kB 2.8MB/s eta 0:00:01\r\u001b[K     |█████████████████████████▉      | 798kB 2.8MB/s eta 0:00:01\r\u001b[K     |██████████████████████████▏     | 808kB 2.8MB/s eta 0:00:01\r\u001b[K     |██████████████████████████▌     | 819kB 2.8MB/s eta 0:00:01\r\u001b[K     |██████████████████████████▉     | 829kB 2.8MB/s eta 0:00:01\r\u001b[K     |███████████████████████████▏    | 839kB 2.8MB/s eta 0:00:01\r\u001b[K     |███████████████████████████▌    | 849kB 2.8MB/s eta 0:00:01\r\u001b[K     |███████████████████████████▉    | 860kB 2.8MB/s eta 0:00:01\r\u001b[K     |████████████████████████████▏   | 870kB 2.8MB/s eta 0:00:01\r\u001b[K     |████████████████████████████▌   | 880kB 2.8MB/s eta 0:00:01\r\u001b[K     |████████████████████████████▉   | 890kB 2.8MB/s eta 0:00:01\r\u001b[K     |█████████████████████████████▏  | 901kB 2.8MB/s eta 0:00:01\r\u001b[K     |█████████████████████████████▌  | 911kB 2.8MB/s eta 0:00:01\r\u001b[K     |█████████████████████████████▉  | 921kB 2.8MB/s eta 0:00:01\r\u001b[K     |██████████████████████████████▏ | 931kB 2.8MB/s eta 0:00:01\r\u001b[K     |██████████████████████████████▌ | 942kB 2.8MB/s eta 0:00:01\r\u001b[K     |██████████████████████████████▉ | 952kB 2.8MB/s eta 0:00:01\r\u001b[K     |███████████████████████████████▏| 962kB 2.8MB/s eta 0:00:01\r\u001b[K     |███████████████████████████████▌| 972kB 2.8MB/s eta 0:00:01\r\u001b[K     |███████████████████████████████▉| 983kB 2.8MB/s eta 0:00:01\r\u001b[K     |████████████████████████████████| 993kB 2.8MB/s \n",
            "\u001b[?25h  Building wheel for PyDrive (setup.py) ... \u001b[?25l\u001b[?25hdone\n"
          ],
          "name": "stdout"
        }
      ]
    },
    {
      "cell_type": "code",
      "metadata": {
        "id": "O7B38lPjpSKC",
        "colab_type": "code",
        "colab": {}
      },
      "source": [
        ""
      ],
      "execution_count": 0,
      "outputs": []
    },
    {
      "cell_type": "code",
      "metadata": {
        "id": "TcP_9q5m6Plm",
        "colab_type": "code",
        "colab": {}
      },
      "source": [
        "test_csv_link = 'https://drive.google.com/open?id=1HB3mJo_2EVewP9oqHtlcDCfw6y01om63' # shareable link\n",
        "train_csv_link = 'https://drive.google.com/open?id=1DiE4w94eJDEXxn87npDd5o6Y3QFdzzIU' # shareable link\n",
        "\n",
        "_, test_id = test_csv_link.split('=')\n",
        "_, train_id = train_csv_link.split('=')\n",
        "# print (test_id) # Verify that you have everything after '='\n",
        "# print (train_id) # Verify that you have everything after '='\n",
        "\n",
        "downloaded_test = drive.CreateFile({'id':test_id})\n",
        "downloaded_train = drive.CreateFile({'id':train_id}) \n",
        "downloaded_test.GetContentFile('test.csv')\n",
        "downloaded_train.GetContentFile('train.csv')\n"
      ],
      "execution_count": 0,
      "outputs": []
    },
    {
      "cell_type": "code",
      "metadata": {
        "id": "gHsim_tgsRoZ",
        "colab_type": "code",
        "colab": {}
      },
      "source": [
        "#from google.colab import files\n",
        "#files.upload()"
      ],
      "execution_count": 0,
      "outputs": []
    },
    {
      "cell_type": "markdown",
      "metadata": {
        "id": "C_uGIBZMBHy0",
        "colab_type": "text"
      },
      "source": [
        "# **EDA**"
      ]
    },
    {
      "cell_type": "code",
      "metadata": {
        "id": "ZZLblk3E7in5",
        "colab_type": "code",
        "outputId": "6fe7f894-15db-46dd-8046-3966fd3cc415",
        "colab": {
          "base_uri": "https://localhost:8080/",
          "height": 54
        }
      },
      "source": [
        "\n",
        "train_df = pd.read_csv('train.csv')\n",
        "test_df = pd.read_csv('test.csv')\n",
        "print(\"train shape: {}\".format(train_df.shape))\n",
        "print(\"test shape: {}\".format(test_df.shape))\n",
        "\n",
        "# Convert Image from string to np array of floats between 0 and 1\n",
        "train_df.Image = train_df.Image.apply(lambda x: np.array(object=x.split(' '), \n",
        "                                                         dtype=float)) / 255\n",
        "test_df.Image = test_df.Image.apply(lambda x: np.array(object=x.split(' '), \n",
        "                                                       dtype=float)) / 255"
      ],
      "execution_count": 25,
      "outputs": [
        {
          "output_type": "stream",
          "text": [
            "train shape: (7049, 31)\n",
            "test shape: (1783, 2)\n"
          ],
          "name": "stdout"
        }
      ]
    },
    {
      "cell_type": "code",
      "metadata": {
        "id": "EjcloYUKDlTd",
        "colab_type": "code",
        "colab": {}
      },
      "source": [
        "train_df.head().T"
      ],
      "execution_count": 0,
      "outputs": []
    },
    {
      "cell_type": "code",
      "metadata": {
        "id": "fKsro1dY94pu",
        "colab_type": "code",
        "colab": {}
      },
      "source": [
        "test_df.head()"
      ],
      "execution_count": 0,
      "outputs": []
    },
    {
      "cell_type": "markdown",
      "metadata": {
        "id": "AyXll3VTHopT",
        "colab_type": "text"
      },
      "source": [
        "## **Check for Missing Data**\n"
      ]
    },
    {
      "cell_type": "code",
      "metadata": {
        "id": "YceeX_CsH5Kk",
        "colab_type": "code",
        "outputId": "b0e79684-02b4-4bc5-ffbc-e3757224dc22",
        "colab": {
          "base_uri": "https://localhost:8080/",
          "height": 629
        }
      },
      "source": [
        "train_df.info()"
      ],
      "execution_count": 0,
      "outputs": [
        {
          "output_type": "stream",
          "text": [
            "<class 'pandas.core.frame.DataFrame'>\n",
            "RangeIndex: 7049 entries, 0 to 7048\n",
            "Data columns (total 31 columns):\n",
            "left_eye_center_x            7039 non-null float64\n",
            "left_eye_center_y            7039 non-null float64\n",
            "right_eye_center_x           7036 non-null float64\n",
            "right_eye_center_y           7036 non-null float64\n",
            "left_eye_inner_corner_x      2271 non-null float64\n",
            "left_eye_inner_corner_y      2271 non-null float64\n",
            "left_eye_outer_corner_x      2267 non-null float64\n",
            "left_eye_outer_corner_y      2267 non-null float64\n",
            "right_eye_inner_corner_x     2268 non-null float64\n",
            "right_eye_inner_corner_y     2268 non-null float64\n",
            "right_eye_outer_corner_x     2268 non-null float64\n",
            "right_eye_outer_corner_y     2268 non-null float64\n",
            "left_eyebrow_inner_end_x     2270 non-null float64\n",
            "left_eyebrow_inner_end_y     2270 non-null float64\n",
            "left_eyebrow_outer_end_x     2225 non-null float64\n",
            "left_eyebrow_outer_end_y     2225 non-null float64\n",
            "right_eyebrow_inner_end_x    2270 non-null float64\n",
            "right_eyebrow_inner_end_y    2270 non-null float64\n",
            "right_eyebrow_outer_end_x    2236 non-null float64\n",
            "right_eyebrow_outer_end_y    2236 non-null float64\n",
            "nose_tip_x                   7049 non-null float64\n",
            "nose_tip_y                   7049 non-null float64\n",
            "mouth_left_corner_x          2269 non-null float64\n",
            "mouth_left_corner_y          2269 non-null float64\n",
            "mouth_right_corner_x         2270 non-null float64\n",
            "mouth_right_corner_y         2270 non-null float64\n",
            "mouth_center_top_lip_x       2275 non-null float64\n",
            "mouth_center_top_lip_y       2275 non-null float64\n",
            "mouth_center_bottom_lip_x    7016 non-null float64\n",
            "mouth_center_bottom_lip_y    7016 non-null float64\n",
            "Image                        7049 non-null object\n",
            "dtypes: float64(30), object(1)\n",
            "memory usage: 1.7+ MB\n"
          ],
          "name": "stdout"
        }
      ]
    },
    {
      "cell_type": "code",
      "metadata": {
        "id": "t23IILO6L8V_",
        "colab_type": "code",
        "outputId": "6ac80910-84a0-45a3-bf3d-80b8f0e832de",
        "colab": {
          "base_uri": "https://localhost:8080/",
          "height": 719
        }
      },
      "source": [
        "### pull out examples of missing data\n",
        "# left_eye_center_x\n",
        "\n",
        "train_df[train_df['left_eye_center_x'].isnull() == True]"
      ],
      "execution_count": 0,
      "outputs": [
        {
          "output_type": "execute_result",
          "data": {
            "text/html": [
              "<div>\n",
              "<style scoped>\n",
              "    .dataframe tbody tr th:only-of-type {\n",
              "        vertical-align: middle;\n",
              "    }\n",
              "\n",
              "    .dataframe tbody tr th {\n",
              "        vertical-align: top;\n",
              "    }\n",
              "\n",
              "    .dataframe thead th {\n",
              "        text-align: right;\n",
              "    }\n",
              "</style>\n",
              "<table border=\"1\" class=\"dataframe\">\n",
              "  <thead>\n",
              "    <tr style=\"text-align: right;\">\n",
              "      <th></th>\n",
              "      <th>left_eye_center_x</th>\n",
              "      <th>left_eye_center_y</th>\n",
              "      <th>right_eye_center_x</th>\n",
              "      <th>right_eye_center_y</th>\n",
              "      <th>left_eye_inner_corner_x</th>\n",
              "      <th>left_eye_inner_corner_y</th>\n",
              "      <th>left_eye_outer_corner_x</th>\n",
              "      <th>left_eye_outer_corner_y</th>\n",
              "      <th>right_eye_inner_corner_x</th>\n",
              "      <th>right_eye_inner_corner_y</th>\n",
              "      <th>right_eye_outer_corner_x</th>\n",
              "      <th>right_eye_outer_corner_y</th>\n",
              "      <th>left_eyebrow_inner_end_x</th>\n",
              "      <th>left_eyebrow_inner_end_y</th>\n",
              "      <th>left_eyebrow_outer_end_x</th>\n",
              "      <th>left_eyebrow_outer_end_y</th>\n",
              "      <th>right_eyebrow_inner_end_x</th>\n",
              "      <th>right_eyebrow_inner_end_y</th>\n",
              "      <th>right_eyebrow_outer_end_x</th>\n",
              "      <th>right_eyebrow_outer_end_y</th>\n",
              "      <th>nose_tip_x</th>\n",
              "      <th>nose_tip_y</th>\n",
              "      <th>mouth_left_corner_x</th>\n",
              "      <th>mouth_left_corner_y</th>\n",
              "      <th>mouth_right_corner_x</th>\n",
              "      <th>mouth_right_corner_y</th>\n",
              "      <th>mouth_center_top_lip_x</th>\n",
              "      <th>mouth_center_top_lip_y</th>\n",
              "      <th>mouth_center_bottom_lip_x</th>\n",
              "      <th>mouth_center_bottom_lip_y</th>\n",
              "      <th>Image</th>\n",
              "    </tr>\n",
              "  </thead>\n",
              "  <tbody>\n",
              "    <tr>\n",
              "      <th>1687</th>\n",
              "      <td>NaN</td>\n",
              "      <td>NaN</td>\n",
              "      <td>NaN</td>\n",
              "      <td>NaN</td>\n",
              "      <td>57.931068</td>\n",
              "      <td>40.808627</td>\n",
              "      <td>73.232712</td>\n",
              "      <td>44.910035</td>\n",
              "      <td>NaN</td>\n",
              "      <td>NaN</td>\n",
              "      <td>19.393354</td>\n",
              "      <td>30.279554</td>\n",
              "      <td>59.362578</td>\n",
              "      <td>35.177498</td>\n",
              "      <td>76.553349</td>\n",
              "      <td>40.842495</td>\n",
              "      <td>38.311092</td>\n",
              "      <td>28.608206</td>\n",
              "      <td>19.365442</td>\n",
              "      <td>23.906166</td>\n",
              "      <td>42.174021</td>\n",
              "      <td>55.500993</td>\n",
              "      <td>54.595918</td>\n",
              "      <td>74.511943</td>\n",
              "      <td>24.118659</td>\n",
              "      <td>68.652754</td>\n",
              "      <td>39.136317</td>\n",
              "      <td>71.487238</td>\n",
              "      <td>37.405514</td>\n",
              "      <td>75.520178</td>\n",
              "      <td>[0.20784313725490197, 0.21568627450980393, 0.2...</td>\n",
              "    </tr>\n",
              "    <tr>\n",
              "      <th>1834</th>\n",
              "      <td>NaN</td>\n",
              "      <td>NaN</td>\n",
              "      <td>NaN</td>\n",
              "      <td>NaN</td>\n",
              "      <td>41.122383</td>\n",
              "      <td>43.111925</td>\n",
              "      <td>49.822688</td>\n",
              "      <td>39.401949</td>\n",
              "      <td>28.818827</td>\n",
              "      <td>47.168082</td>\n",
              "      <td>NaN</td>\n",
              "      <td>NaN</td>\n",
              "      <td>31.916349</td>\n",
              "      <td>35.952397</td>\n",
              "      <td>50.125814</td>\n",
              "      <td>29.714780</td>\n",
              "      <td>25.437982</td>\n",
              "      <td>40.986264</td>\n",
              "      <td>17.361909</td>\n",
              "      <td>42.430765</td>\n",
              "      <td>27.017399</td>\n",
              "      <td>63.240190</td>\n",
              "      <td>54.380973</td>\n",
              "      <td>63.966847</td>\n",
              "      <td>31.776519</td>\n",
              "      <td>74.325852</td>\n",
              "      <td>37.135567</td>\n",
              "      <td>70.228468</td>\n",
              "      <td>41.736649</td>\n",
              "      <td>76.507387</td>\n",
              "      <td>[0.26666666666666666, 0.26666666666666666, 0.2...</td>\n",
              "    </tr>\n",
              "    <tr>\n",
              "      <th>1866</th>\n",
              "      <td>NaN</td>\n",
              "      <td>NaN</td>\n",
              "      <td>NaN</td>\n",
              "      <td>NaN</td>\n",
              "      <td>NaN</td>\n",
              "      <td>NaN</td>\n",
              "      <td>NaN</td>\n",
              "      <td>NaN</td>\n",
              "      <td>NaN</td>\n",
              "      <td>NaN</td>\n",
              "      <td>NaN</td>\n",
              "      <td>NaN</td>\n",
              "      <td>58.020743</td>\n",
              "      <td>32.837738</td>\n",
              "      <td>74.912546</td>\n",
              "      <td>43.573637</td>\n",
              "      <td>45.832051</td>\n",
              "      <td>28.651723</td>\n",
              "      <td>19.829508</td>\n",
              "      <td>30.793978</td>\n",
              "      <td>51.427229</td>\n",
              "      <td>53.877310</td>\n",
              "      <td>57.458039</td>\n",
              "      <td>80.878314</td>\n",
              "      <td>32.511208</td>\n",
              "      <td>76.078956</td>\n",
              "      <td>45.435075</td>\n",
              "      <td>76.046196</td>\n",
              "      <td>44.288471</td>\n",
              "      <td>79.993791</td>\n",
              "      <td>[0.09803921568627451, 0.09019607843137255, 0.0...</td>\n",
              "    </tr>\n",
              "    <tr>\n",
              "      <th>1938</th>\n",
              "      <td>NaN</td>\n",
              "      <td>NaN</td>\n",
              "      <td>NaN</td>\n",
              "      <td>NaN</td>\n",
              "      <td>59.603142</td>\n",
              "      <td>41.750697</td>\n",
              "      <td>75.085986</td>\n",
              "      <td>49.088207</td>\n",
              "      <td>38.232536</td>\n",
              "      <td>33.229570</td>\n",
              "      <td>24.102628</td>\n",
              "      <td>29.247888</td>\n",
              "      <td>57.789811</td>\n",
              "      <td>34.389546</td>\n",
              "      <td>81.221553</td>\n",
              "      <td>41.262194</td>\n",
              "      <td>40.284481</td>\n",
              "      <td>29.782881</td>\n",
              "      <td>20.665065</td>\n",
              "      <td>18.502775</td>\n",
              "      <td>34.447805</td>\n",
              "      <td>62.884158</td>\n",
              "      <td>49.917692</td>\n",
              "      <td>82.619275</td>\n",
              "      <td>21.997412</td>\n",
              "      <td>69.704035</td>\n",
              "      <td>35.746465</td>\n",
              "      <td>78.990190</td>\n",
              "      <td>34.873289</td>\n",
              "      <td>81.526558</td>\n",
              "      <td>[0.16470588235294117, 0.1607843137254902, 0.17...</td>\n",
              "    </tr>\n",
              "    <tr>\n",
              "      <th>2100</th>\n",
              "      <td>NaN</td>\n",
              "      <td>NaN</td>\n",
              "      <td>46.180446</td>\n",
              "      <td>38.001579</td>\n",
              "      <td>67.601641</td>\n",
              "      <td>41.736941</td>\n",
              "      <td>77.647986</td>\n",
              "      <td>42.364153</td>\n",
              "      <td>50.589530</td>\n",
              "      <td>38.493913</td>\n",
              "      <td>40.457143</td>\n",
              "      <td>37.580337</td>\n",
              "      <td>NaN</td>\n",
              "      <td>NaN</td>\n",
              "      <td>NaN</td>\n",
              "      <td>NaN</td>\n",
              "      <td>58.093771</td>\n",
              "      <td>34.185342</td>\n",
              "      <td>36.910169</td>\n",
              "      <td>30.827471</td>\n",
              "      <td>64.842080</td>\n",
              "      <td>60.458789</td>\n",
              "      <td>66.114101</td>\n",
              "      <td>75.403698</td>\n",
              "      <td>39.672788</td>\n",
              "      <td>73.862758</td>\n",
              "      <td>55.859308</td>\n",
              "      <td>71.557480</td>\n",
              "      <td>52.268891</td>\n",
              "      <td>84.015333</td>\n",
              "      <td>[0.13725490196078433, 0.06274509803921569, 0.1...</td>\n",
              "    </tr>\n",
              "    <tr>\n",
              "      <th>2137</th>\n",
              "      <td>NaN</td>\n",
              "      <td>NaN</td>\n",
              "      <td>NaN</td>\n",
              "      <td>NaN</td>\n",
              "      <td>NaN</td>\n",
              "      <td>NaN</td>\n",
              "      <td>NaN</td>\n",
              "      <td>NaN</td>\n",
              "      <td>NaN</td>\n",
              "      <td>NaN</td>\n",
              "      <td>NaN</td>\n",
              "      <td>NaN</td>\n",
              "      <td>NaN</td>\n",
              "      <td>NaN</td>\n",
              "      <td>70.476893</td>\n",
              "      <td>29.793548</td>\n",
              "      <td>42.880843</td>\n",
              "      <td>29.448058</td>\n",
              "      <td>29.147597</td>\n",
              "      <td>27.223963</td>\n",
              "      <td>43.623302</td>\n",
              "      <td>51.613917</td>\n",
              "      <td>54.875576</td>\n",
              "      <td>67.435945</td>\n",
              "      <td>37.504147</td>\n",
              "      <td>60.976959</td>\n",
              "      <td>44.479263</td>\n",
              "      <td>60.917972</td>\n",
              "      <td>45.482028</td>\n",
              "      <td>68.394470</td>\n",
              "      <td>[0.06666666666666667, 0.06666666666666667, 0.0...</td>\n",
              "    </tr>\n",
              "    <tr>\n",
              "      <th>2153</th>\n",
              "      <td>NaN</td>\n",
              "      <td>NaN</td>\n",
              "      <td>NaN</td>\n",
              "      <td>NaN</td>\n",
              "      <td>NaN</td>\n",
              "      <td>NaN</td>\n",
              "      <td>NaN</td>\n",
              "      <td>NaN</td>\n",
              "      <td>NaN</td>\n",
              "      <td>NaN</td>\n",
              "      <td>NaN</td>\n",
              "      <td>NaN</td>\n",
              "      <td>NaN</td>\n",
              "      <td>NaN</td>\n",
              "      <td>NaN</td>\n",
              "      <td>NaN</td>\n",
              "      <td>NaN</td>\n",
              "      <td>NaN</td>\n",
              "      <td>NaN</td>\n",
              "      <td>NaN</td>\n",
              "      <td>54.539810</td>\n",
              "      <td>53.724863</td>\n",
              "      <td>63.036965</td>\n",
              "      <td>68.311584</td>\n",
              "      <td>37.544582</td>\n",
              "      <td>70.934866</td>\n",
              "      <td>52.036102</td>\n",
              "      <td>69.475137</td>\n",
              "      <td>52.268813</td>\n",
              "      <td>70.702156</td>\n",
              "      <td>[0.17647058823529413, 0.2, 0.25098039215686274...</td>\n",
              "    </tr>\n",
              "    <tr>\n",
              "      <th>2175</th>\n",
              "      <td>NaN</td>\n",
              "      <td>NaN</td>\n",
              "      <td>66.786621</td>\n",
              "      <td>39.081633</td>\n",
              "      <td>NaN</td>\n",
              "      <td>NaN</td>\n",
              "      <td>NaN</td>\n",
              "      <td>NaN</td>\n",
              "      <td>70.714966</td>\n",
              "      <td>38.542177</td>\n",
              "      <td>61.428580</td>\n",
              "      <td>39.055628</td>\n",
              "      <td>79.787831</td>\n",
              "      <td>34.689191</td>\n",
              "      <td>84.716629</td>\n",
              "      <td>32.914134</td>\n",
              "      <td>76.582388</td>\n",
              "      <td>32.175964</td>\n",
              "      <td>58.418216</td>\n",
              "      <td>31.673318</td>\n",
              "      <td>88.850000</td>\n",
              "      <td>50.219898</td>\n",
              "      <td>NaN</td>\n",
              "      <td>NaN</td>\n",
              "      <td>74.017993</td>\n",
              "      <td>68.806327</td>\n",
              "      <td>83.989082</td>\n",
              "      <td>66.173401</td>\n",
              "      <td>84.979218</td>\n",
              "      <td>67.902653</td>\n",
              "      <td>[0.0, 0.0, 0.00392156862745098, 0.0, 0.0, 0.00...</td>\n",
              "    </tr>\n",
              "    <tr>\n",
              "      <th>2186</th>\n",
              "      <td>NaN</td>\n",
              "      <td>NaN</td>\n",
              "      <td>NaN</td>\n",
              "      <td>NaN</td>\n",
              "      <td>NaN</td>\n",
              "      <td>NaN</td>\n",
              "      <td>NaN</td>\n",
              "      <td>NaN</td>\n",
              "      <td>NaN</td>\n",
              "      <td>NaN</td>\n",
              "      <td>NaN</td>\n",
              "      <td>NaN</td>\n",
              "      <td>NaN</td>\n",
              "      <td>NaN</td>\n",
              "      <td>NaN</td>\n",
              "      <td>NaN</td>\n",
              "      <td>38.557864</td>\n",
              "      <td>27.709876</td>\n",
              "      <td>NaN</td>\n",
              "      <td>NaN</td>\n",
              "      <td>37.708376</td>\n",
              "      <td>57.979672</td>\n",
              "      <td>73.062903</td>\n",
              "      <td>68.390158</td>\n",
              "      <td>NaN</td>\n",
              "      <td>NaN</td>\n",
              "      <td>49.711997</td>\n",
              "      <td>71.270341</td>\n",
              "      <td>50.830746</td>\n",
              "      <td>77.197330</td>\n",
              "      <td>[0.6980392156862745, 0.6901960784313725, 0.682...</td>\n",
              "    </tr>\n",
              "    <tr>\n",
              "      <th>2239</th>\n",
              "      <td>NaN</td>\n",
              "      <td>NaN</td>\n",
              "      <td>31.925567</td>\n",
              "      <td>35.312088</td>\n",
              "      <td>57.229069</td>\n",
              "      <td>39.959582</td>\n",
              "      <td>NaN</td>\n",
              "      <td>NaN</td>\n",
              "      <td>38.241712</td>\n",
              "      <td>38.002787</td>\n",
              "      <td>24.544151</td>\n",
              "      <td>35.164360</td>\n",
              "      <td>NaN</td>\n",
              "      <td>NaN</td>\n",
              "      <td>NaN</td>\n",
              "      <td>NaN</td>\n",
              "      <td>39.611050</td>\n",
              "      <td>30.456446</td>\n",
              "      <td>20.641613</td>\n",
              "      <td>26.187656</td>\n",
              "      <td>48.210313</td>\n",
              "      <td>55.102877</td>\n",
              "      <td>58.146540</td>\n",
              "      <td>71.447188</td>\n",
              "      <td>32.288900</td>\n",
              "      <td>69.744848</td>\n",
              "      <td>46.050971</td>\n",
              "      <td>72.038527</td>\n",
              "      <td>46.033051</td>\n",
              "      <td>73.830463</td>\n",
              "      <td>[0.0196078431372549, 0.027450980392156862, 0.0...</td>\n",
              "    </tr>\n",
              "  </tbody>\n",
              "</table>\n",
              "</div>"
            ],
            "text/plain": [
              "      left_eye_center_x  ...                                              Image\n",
              "1687                NaN  ...  [0.20784313725490197, 0.21568627450980393, 0.2...\n",
              "1834                NaN  ...  [0.26666666666666666, 0.26666666666666666, 0.2...\n",
              "1866                NaN  ...  [0.09803921568627451, 0.09019607843137255, 0.0...\n",
              "1938                NaN  ...  [0.16470588235294117, 0.1607843137254902, 0.17...\n",
              "2100                NaN  ...  [0.13725490196078433, 0.06274509803921569, 0.1...\n",
              "2137                NaN  ...  [0.06666666666666667, 0.06666666666666667, 0.0...\n",
              "2153                NaN  ...  [0.17647058823529413, 0.2, 0.25098039215686274...\n",
              "2175                NaN  ...  [0.0, 0.0, 0.00392156862745098, 0.0, 0.0, 0.00...\n",
              "2186                NaN  ...  [0.6980392156862745, 0.6901960784313725, 0.682...\n",
              "2239                NaN  ...  [0.0196078431372549, 0.027450980392156862, 0.0...\n",
              "\n",
              "[10 rows x 31 columns]"
            ]
          },
          "metadata": {
            "tags": []
          },
          "execution_count": 13
        }
      ]
    },
    {
      "cell_type": "markdown",
      "metadata": {
        "id": "XWqUK1aCtbdg",
        "colab_type": "text"
      },
      "source": [
        "## **Forward Fill Missing Data**\n",
        "\n",
        "Since the data has multiple columns of missing information we are going to input them using the forward fill method."
      ]
    },
    {
      "cell_type": "code",
      "metadata": {
        "id": "kvx7laOFtgrb",
        "colab_type": "code",
        "colab": {}
      },
      "source": [
        "train_df.fillna(method = 'ffill', inplace = True)\n",
        "test_df.fillna(method = 'ffill', inplace = True)"
      ],
      "execution_count": 0,
      "outputs": []
    },
    {
      "cell_type": "markdown",
      "metadata": {
        "id": "C4_F9ybDs828",
        "colab_type": "text"
      },
      "source": [
        "# **Split train into train/dev sets**"
      ]
    },
    {
      "cell_type": "code",
      "metadata": {
        "id": "6WR33lUttLW0",
        "colab_type": "code",
        "colab": {}
      },
      "source": [
        "from sklearn.model_selection import train_test_split\n",
        "#Splitting the data into a 75/25 training and dev split\n",
        "#Using random state 0 for reproducibility\n",
        "train, dev = train_test_split(train_df, test_size=0.25, random_state = 0)"
      ],
      "execution_count": 0,
      "outputs": []
    },
    {
      "cell_type": "markdown",
      "metadata": {
        "id": "_XtHvtDXtNgZ",
        "colab_type": "text"
      },
      "source": [
        "# **Print a few images to validate the data**\n"
      ]
    },
    {
      "cell_type": "code",
      "metadata": {
        "id": "qW91P_8Hjr1G",
        "colab_type": "code",
        "outputId": "86c3a7a5-3b05-42ed-a462-7223102a8a4d",
        "colab": {
          "base_uri": "https://localhost:8080/",
          "height": 89
        }
      },
      "source": [
        "train_images=np.concatenate(np.array(train.Image.values)).ravel().reshape(5286,9216)\n",
        "dev_images_raw=np.concatenate(dev['Image'].values).ravel().reshape(dev.Image.values.shape[0],9216)\n",
        "\n",
        "def plot_example(num_examples,train):\n",
        "  \n",
        "  for i in range(num_examples):\n",
        "    ax = plt.subplot(1,num_examples,i+1)\n",
        "    ax.imshow(train[i].reshape(96,96),cmap='gray')\n",
        "    ax.get_xaxis().set_visible(False)\n",
        "    ax.get_yaxis().set_visible(False)\n",
        "    \n",
        "plot_example(5,train_images)"
      ],
      "execution_count": 31,
      "outputs": [
        {
          "output_type": "display_data",
          "data": {
            "image/png": "[encoded data removed]",
            "text/plain": [
              "<Figure size 432x288 with 5 Axes>"
            ]
          },
          "metadata": {
            "tags": []
          }
        }
      ]
    },
    {
      "cell_type": "code",
      "metadata": {
        "id": "-JUWQ05pmPIF",
        "colab_type": "code",
        "colab": {}
      },
      "source": [
        "def plot_example(num_examples):\n",
        "  \n",
        "  for i in range(num_examples):\n",
        "    ax = plt.subplot(1,num_examples,i+1)\n",
        "    ax.imshow(train.Image.iloc[i].reshape(96,96),cmap='gray')\n",
        "    ax.get_xaxis().set_visible(False)\n",
        "    ax.get_yaxis().set_visible(False)\n",
        "\n",
        "plot_example(5)"
      ],
      "execution_count": 0,
      "outputs": []
    },
    {
      "cell_type": "code",
      "metadata": {
        "id": "Rd0evqttlGJg",
        "colab_type": "code",
        "colab": {}
      },
      "source": [
        "import re\n",
        "import numpy as np\n",
        "import matplotlib.pyplot as plt\n",
        "\n",
        "# SK-learn libraries for learning.\n",
        "from sklearn.pipeline import Pipeline\n",
        "from sklearn.neighbors import KNeighborsClassifier\n",
        "from sklearn.linear_model import LogisticRegression\n",
        "from sklearn.naive_bayes import BernoulliNB\n",
        "from sklearn.naive_bayes import MultinomialNB\n",
        "#from sklearn.grid_search import GridSearchCV\n",
        "#from sklearn.naive_bayes import GaussianNB\n",
        "from sklearn.model_selection import GridSearchCV\n",
        "from sklearn import preprocessing\n",
        "from sklearn import utils\n",
        "from sklearn import metrics"
      ],
      "execution_count": 0,
      "outputs": []
    },
    {
      "cell_type": "code",
      "metadata": {
        "id": "0FuA8pbRssP2",
        "colab_type": "code",
        "colab": {}
      },
      "source": [
        "train_left_eye_x=np.array(train['left_eye_center_x'].values)\n",
        "dev_left_eye_x=dev['left_eye_center_x'].values\n",
        "\n",
        "lab_enc = preprocessing.LabelEncoder()\n",
        "encoded = lab_enc.fit_transform(np.round(train_left_eye_x,3))\n",
        "dev_encoded = lab_enc.fit_transform(np.round(dev_left_eye_x,3))"
      ],
      "execution_count": 0,
      "outputs": []
    },
    {
      "cell_type": "markdown",
      "metadata": {
        "id": "izCfhrGutX7i",
        "colab_type": "text"
      },
      "source": [
        "# **Model for Left Eye Center X**\n",
        "##Linear Regression\n"
      ]
    },
    {
      "cell_type": "code",
      "metadata": {
        "id": "jC9e7VyjMV7h",
        "colab_type": "code",
        "colab": {}
      },
      "source": [
        "from sklearn import linear_model\n",
        "linear_reg = linear_model.LinearRegression()\n",
        "lr_fit = linear_reg.fit(train_images, encoded)\n",
        "lr_pred = lr_fit.predict(dev_images_raw)\n"
      ],
      "execution_count": 0,
      "outputs": []
    },
    {
      "cell_type": "code",
      "metadata": {
        "id": "NGpl2MftM-nG",
        "colab_type": "code",
        "outputId": "07b86700-ce69-4b33-f897-81820fe68ec9",
        "colab": {
          "base_uri": "https://localhost:8080/",
          "height": 164
        }
      },
      "source": [
        "lr_pred.score"
      ],
      "execution_count": 0,
      "outputs": [
        {
          "output_type": "error",
          "ename": "AttributeError",
          "evalue": "ignored",
          "traceback": [
            "\u001b[0;31m---------------------------------------------------------------------------\u001b[0m",
            "\u001b[0;31mAttributeError\u001b[0m                            Traceback (most recent call last)",
            "\u001b[0;32m<ipython-input-24-23286006041f>\u001b[0m in \u001b[0;36m<module>\u001b[0;34m()\u001b[0m\n\u001b[0;32m----> 1\u001b[0;31m \u001b[0mlr_pred\u001b[0m\u001b[0;34m.\u001b[0m\u001b[0mscore\u001b[0m\u001b[0;34m\u001b[0m\u001b[0;34m\u001b[0m\u001b[0m\n\u001b[0m",
            "\u001b[0;31mAttributeError\u001b[0m: 'numpy.ndarray' object has no attribute 'score'"
          ]
        }
      ]
    },
    {
      "cell_type": "markdown",
      "metadata": {
        "id": "CLtgzaggMOpp",
        "colab_type": "text"
      },
      "source": [
        "##K-Nearest Neighbors"
      ]
    },
    {
      "cell_type": "code",
      "metadata": {
        "id": "HRK1PbOp83wh",
        "colab_type": "code",
        "outputId": "2ecbda1f-17e6-4233-c511-ed8a2745d2bf",
        "colab": {
          "base_uri": "https://localhost:8080/",
          "height": 357
        }
      },
      "source": [
        "train_images = train.Image\n",
        "dev_images = dev.Image\n",
        "knn5 = KNeighborsClassifier(n_neighbors = 5)\n",
        "knn5.fit(train_images, encoded)\n",
        "dev_pred = knn5.predict(dev_images)\n"
      ],
      "execution_count": 0,
      "outputs": [
        {
          "output_type": "error",
          "ename": "ValueError",
          "evalue": "ignored",
          "traceback": [
            "\u001b[0;31m---------------------------------------------------------------------------\u001b[0m",
            "\u001b[0;31mValueError\u001b[0m                                Traceback (most recent call last)",
            "\u001b[0;32m<ipython-input-37-5f0209d8c496>\u001b[0m in \u001b[0;36m<module>\u001b[0;34m()\u001b[0m\n\u001b[1;32m      2\u001b[0m \u001b[0mdev_images\u001b[0m \u001b[0;34m=\u001b[0m \u001b[0mdev\u001b[0m\u001b[0;34m.\u001b[0m\u001b[0mImage\u001b[0m\u001b[0;34m\u001b[0m\u001b[0;34m\u001b[0m\u001b[0m\n\u001b[1;32m      3\u001b[0m \u001b[0mknn5\u001b[0m \u001b[0;34m=\u001b[0m \u001b[0mKNeighborsClassifier\u001b[0m\u001b[0;34m(\u001b[0m\u001b[0mn_neighbors\u001b[0m \u001b[0;34m=\u001b[0m \u001b[0;36m5\u001b[0m\u001b[0;34m)\u001b[0m\u001b[0;34m\u001b[0m\u001b[0;34m\u001b[0m\u001b[0m\n\u001b[0;32m----> 4\u001b[0;31m \u001b[0mknn5\u001b[0m\u001b[0;34m.\u001b[0m\u001b[0mfit\u001b[0m\u001b[0;34m(\u001b[0m\u001b[0mtrain_images\u001b[0m\u001b[0;34m,\u001b[0m \u001b[0mencoded\u001b[0m\u001b[0;34m)\u001b[0m\u001b[0;34m\u001b[0m\u001b[0;34m\u001b[0m\u001b[0m\n\u001b[0m\u001b[1;32m      5\u001b[0m \u001b[0mdev_pred\u001b[0m \u001b[0;34m=\u001b[0m \u001b[0mknn5\u001b[0m\u001b[0;34m.\u001b[0m\u001b[0mpredict\u001b[0m\u001b[0;34m(\u001b[0m\u001b[0mdev_images\u001b[0m\u001b[0;34m)\u001b[0m\u001b[0;34m\u001b[0m\u001b[0;34m\u001b[0m\u001b[0m\n",
            "\u001b[0;32m/usr/local/lib/python3.6/dist-packages/sklearn/neighbors/base.py\u001b[0m in \u001b[0;36mfit\u001b[0;34m(self, X, y)\u001b[0m\n\u001b[1;32m    890\u001b[0m         \"\"\"\n\u001b[1;32m    891\u001b[0m         \u001b[0;32mif\u001b[0m \u001b[0;32mnot\u001b[0m \u001b[0misinstance\u001b[0m\u001b[0;34m(\u001b[0m\u001b[0mX\u001b[0m\u001b[0;34m,\u001b[0m \u001b[0;34m(\u001b[0m\u001b[0mKDTree\u001b[0m\u001b[0;34m,\u001b[0m \u001b[0mBallTree\u001b[0m\u001b[0;34m)\u001b[0m\u001b[0;34m)\u001b[0m\u001b[0;34m:\u001b[0m\u001b[0;34m\u001b[0m\u001b[0;34m\u001b[0m\u001b[0m\n\u001b[0;32m--> 892\u001b[0;31m             \u001b[0mX\u001b[0m\u001b[0;34m,\u001b[0m \u001b[0my\u001b[0m \u001b[0;34m=\u001b[0m \u001b[0mcheck_X_y\u001b[0m\u001b[0;34m(\u001b[0m\u001b[0mX\u001b[0m\u001b[0;34m,\u001b[0m \u001b[0my\u001b[0m\u001b[0;34m,\u001b[0m \u001b[0;34m\"csr\"\u001b[0m\u001b[0;34m,\u001b[0m \u001b[0mmulti_output\u001b[0m\u001b[0;34m=\u001b[0m\u001b[0;32mTrue\u001b[0m\u001b[0;34m)\u001b[0m\u001b[0;34m\u001b[0m\u001b[0;34m\u001b[0m\u001b[0m\n\u001b[0m\u001b[1;32m    893\u001b[0m \u001b[0;34m\u001b[0m\u001b[0m\n\u001b[1;32m    894\u001b[0m         \u001b[0;32mif\u001b[0m \u001b[0my\u001b[0m\u001b[0;34m.\u001b[0m\u001b[0mndim\u001b[0m \u001b[0;34m==\u001b[0m \u001b[0;36m1\u001b[0m \u001b[0;32mor\u001b[0m \u001b[0my\u001b[0m\u001b[0;34m.\u001b[0m\u001b[0mndim\u001b[0m \u001b[0;34m==\u001b[0m \u001b[0;36m2\u001b[0m \u001b[0;32mand\u001b[0m \u001b[0my\u001b[0m\u001b[0;34m.\u001b[0m\u001b[0mshape\u001b[0m\u001b[0;34m[\u001b[0m\u001b[0;36m1\u001b[0m\u001b[0;34m]\u001b[0m \u001b[0;34m==\u001b[0m \u001b[0;36m1\u001b[0m\u001b[0;34m:\u001b[0m\u001b[0;34m\u001b[0m\u001b[0;34m\u001b[0m\u001b[0m\n",
            "\u001b[0;32m/usr/local/lib/python3.6/dist-packages/sklearn/utils/validation.py\u001b[0m in \u001b[0;36mcheck_X_y\u001b[0;34m(X, y, accept_sparse, accept_large_sparse, dtype, order, copy, force_all_finite, ensure_2d, allow_nd, multi_output, ensure_min_samples, ensure_min_features, y_numeric, warn_on_dtype, estimator)\u001b[0m\n\u001b[1;32m    717\u001b[0m                     \u001b[0mensure_min_features\u001b[0m\u001b[0;34m=\u001b[0m\u001b[0mensure_min_features\u001b[0m\u001b[0;34m,\u001b[0m\u001b[0;34m\u001b[0m\u001b[0;34m\u001b[0m\u001b[0m\n\u001b[1;32m    718\u001b[0m                     \u001b[0mwarn_on_dtype\u001b[0m\u001b[0;34m=\u001b[0m\u001b[0mwarn_on_dtype\u001b[0m\u001b[0;34m,\u001b[0m\u001b[0;34m\u001b[0m\u001b[0;34m\u001b[0m\u001b[0m\n\u001b[0;32m--> 719\u001b[0;31m                     estimator=estimator)\n\u001b[0m\u001b[1;32m    720\u001b[0m     \u001b[0;32mif\u001b[0m \u001b[0mmulti_output\u001b[0m\u001b[0;34m:\u001b[0m\u001b[0;34m\u001b[0m\u001b[0;34m\u001b[0m\u001b[0m\n\u001b[1;32m    721\u001b[0m         y = check_array(y, 'csr', force_all_finite=True, ensure_2d=False,\n",
            "\u001b[0;32m/usr/local/lib/python3.6/dist-packages/sklearn/utils/validation.py\u001b[0m in \u001b[0;36mcheck_array\u001b[0;34m(array, accept_sparse, accept_large_sparse, dtype, order, copy, force_all_finite, ensure_2d, allow_nd, ensure_min_samples, ensure_min_features, warn_on_dtype, estimator)\u001b[0m\n\u001b[1;32m    494\u001b[0m             \u001b[0;32mtry\u001b[0m\u001b[0;34m:\u001b[0m\u001b[0;34m\u001b[0m\u001b[0;34m\u001b[0m\u001b[0m\n\u001b[1;32m    495\u001b[0m                 \u001b[0mwarnings\u001b[0m\u001b[0;34m.\u001b[0m\u001b[0msimplefilter\u001b[0m\u001b[0;34m(\u001b[0m\u001b[0;34m'error'\u001b[0m\u001b[0;34m,\u001b[0m \u001b[0mComplexWarning\u001b[0m\u001b[0;34m)\u001b[0m\u001b[0;34m\u001b[0m\u001b[0;34m\u001b[0m\u001b[0m\n\u001b[0;32m--> 496\u001b[0;31m                 \u001b[0marray\u001b[0m \u001b[0;34m=\u001b[0m \u001b[0mnp\u001b[0m\u001b[0;34m.\u001b[0m\u001b[0masarray\u001b[0m\u001b[0;34m(\u001b[0m\u001b[0marray\u001b[0m\u001b[0;34m,\u001b[0m \u001b[0mdtype\u001b[0m\u001b[0;34m=\u001b[0m\u001b[0mdtype\u001b[0m\u001b[0;34m,\u001b[0m \u001b[0morder\u001b[0m\u001b[0;34m=\u001b[0m\u001b[0morder\u001b[0m\u001b[0;34m)\u001b[0m\u001b[0;34m\u001b[0m\u001b[0;34m\u001b[0m\u001b[0m\n\u001b[0m\u001b[1;32m    497\u001b[0m             \u001b[0;32mexcept\u001b[0m \u001b[0mComplexWarning\u001b[0m\u001b[0;34m:\u001b[0m\u001b[0;34m\u001b[0m\u001b[0;34m\u001b[0m\u001b[0m\n\u001b[1;32m    498\u001b[0m                 raise ValueError(\"Complex data not supported\\n\"\n",
            "\u001b[0;32m/usr/local/lib/python3.6/dist-packages/numpy/core/numeric.py\u001b[0m in \u001b[0;36masarray\u001b[0;34m(a, dtype, order)\u001b[0m\n\u001b[1;32m    536\u001b[0m \u001b[0;34m\u001b[0m\u001b[0m\n\u001b[1;32m    537\u001b[0m     \"\"\"\n\u001b[0;32m--> 538\u001b[0;31m     \u001b[0;32mreturn\u001b[0m \u001b[0marray\u001b[0m\u001b[0;34m(\u001b[0m\u001b[0ma\u001b[0m\u001b[0;34m,\u001b[0m \u001b[0mdtype\u001b[0m\u001b[0;34m,\u001b[0m \u001b[0mcopy\u001b[0m\u001b[0;34m=\u001b[0m\u001b[0;32mFalse\u001b[0m\u001b[0;34m,\u001b[0m \u001b[0morder\u001b[0m\u001b[0;34m=\u001b[0m\u001b[0morder\u001b[0m\u001b[0;34m)\u001b[0m\u001b[0;34m\u001b[0m\u001b[0;34m\u001b[0m\u001b[0m\n\u001b[0m\u001b[1;32m    539\u001b[0m \u001b[0;34m\u001b[0m\u001b[0m\n\u001b[1;32m    540\u001b[0m \u001b[0;34m\u001b[0m\u001b[0m\n",
            "\u001b[0;32m/usr/local/lib/python3.6/dist-packages/pandas/core/series.py\u001b[0m in \u001b[0;36m__array__\u001b[0;34m(self, dtype)\u001b[0m\n\u001b[1;32m    726\u001b[0m             \u001b[0mwarnings\u001b[0m\u001b[0;34m.\u001b[0m\u001b[0mwarn\u001b[0m\u001b[0;34m(\u001b[0m\u001b[0mmsg\u001b[0m\u001b[0;34m,\u001b[0m \u001b[0mFutureWarning\u001b[0m\u001b[0;34m,\u001b[0m \u001b[0mstacklevel\u001b[0m\u001b[0;34m=\u001b[0m\u001b[0;36m3\u001b[0m\u001b[0;34m)\u001b[0m\u001b[0;34m\u001b[0m\u001b[0;34m\u001b[0m\u001b[0m\n\u001b[1;32m    727\u001b[0m             \u001b[0mdtype\u001b[0m \u001b[0;34m=\u001b[0m \u001b[0;34m'M8[ns]'\u001b[0m\u001b[0;34m\u001b[0m\u001b[0;34m\u001b[0m\u001b[0m\n\u001b[0;32m--> 728\u001b[0;31m         \u001b[0;32mreturn\u001b[0m \u001b[0mnp\u001b[0m\u001b[0;34m.\u001b[0m\u001b[0masarray\u001b[0m\u001b[0;34m(\u001b[0m\u001b[0mself\u001b[0m\u001b[0;34m.\u001b[0m\u001b[0marray\u001b[0m\u001b[0;34m,\u001b[0m \u001b[0mdtype\u001b[0m\u001b[0;34m)\u001b[0m\u001b[0;34m\u001b[0m\u001b[0;34m\u001b[0m\u001b[0m\n\u001b[0m\u001b[1;32m    729\u001b[0m \u001b[0;34m\u001b[0m\u001b[0m\n\u001b[1;32m    730\u001b[0m     \u001b[0;32mdef\u001b[0m \u001b[0m__array_wrap__\u001b[0m\u001b[0;34m(\u001b[0m\u001b[0mself\u001b[0m\u001b[0;34m,\u001b[0m \u001b[0mresult\u001b[0m\u001b[0;34m,\u001b[0m \u001b[0mcontext\u001b[0m\u001b[0;34m=\u001b[0m\u001b[0;32mNone\u001b[0m\u001b[0;34m)\u001b[0m\u001b[0;34m:\u001b[0m\u001b[0;34m\u001b[0m\u001b[0;34m\u001b[0m\u001b[0m\n",
            "\u001b[0;32m/usr/local/lib/python3.6/dist-packages/numpy/core/numeric.py\u001b[0m in \u001b[0;36masarray\u001b[0;34m(a, dtype, order)\u001b[0m\n\u001b[1;32m    536\u001b[0m \u001b[0;34m\u001b[0m\u001b[0m\n\u001b[1;32m    537\u001b[0m     \"\"\"\n\u001b[0;32m--> 538\u001b[0;31m     \u001b[0;32mreturn\u001b[0m \u001b[0marray\u001b[0m\u001b[0;34m(\u001b[0m\u001b[0ma\u001b[0m\u001b[0;34m,\u001b[0m \u001b[0mdtype\u001b[0m\u001b[0;34m,\u001b[0m \u001b[0mcopy\u001b[0m\u001b[0;34m=\u001b[0m\u001b[0;32mFalse\u001b[0m\u001b[0;34m,\u001b[0m \u001b[0morder\u001b[0m\u001b[0;34m=\u001b[0m\u001b[0morder\u001b[0m\u001b[0;34m)\u001b[0m\u001b[0;34m\u001b[0m\u001b[0;34m\u001b[0m\u001b[0m\n\u001b[0m\u001b[1;32m    539\u001b[0m \u001b[0;34m\u001b[0m\u001b[0m\n\u001b[1;32m    540\u001b[0m \u001b[0;34m\u001b[0m\u001b[0m\n",
            "\u001b[0;32m/usr/local/lib/python3.6/dist-packages/pandas/core/arrays/numpy_.py\u001b[0m in \u001b[0;36m__array__\u001b[0;34m(self, dtype)\u001b[0m\n\u001b[1;32m    169\u001b[0m \u001b[0;34m\u001b[0m\u001b[0m\n\u001b[1;32m    170\u001b[0m     \u001b[0;32mdef\u001b[0m \u001b[0m__array__\u001b[0m\u001b[0;34m(\u001b[0m\u001b[0mself\u001b[0m\u001b[0;34m,\u001b[0m \u001b[0mdtype\u001b[0m\u001b[0;34m=\u001b[0m\u001b[0;32mNone\u001b[0m\u001b[0;34m)\u001b[0m\u001b[0;34m:\u001b[0m\u001b[0;34m\u001b[0m\u001b[0;34m\u001b[0m\u001b[0m\n\u001b[0;32m--> 171\u001b[0;31m         \u001b[0;32mreturn\u001b[0m \u001b[0mnp\u001b[0m\u001b[0;34m.\u001b[0m\u001b[0masarray\u001b[0m\u001b[0;34m(\u001b[0m\u001b[0mself\u001b[0m\u001b[0;34m.\u001b[0m\u001b[0m_ndarray\u001b[0m\u001b[0;34m,\u001b[0m \u001b[0mdtype\u001b[0m\u001b[0;34m=\u001b[0m\u001b[0mdtype\u001b[0m\u001b[0;34m)\u001b[0m\u001b[0;34m\u001b[0m\u001b[0;34m\u001b[0m\u001b[0m\n\u001b[0m\u001b[1;32m    172\u001b[0m \u001b[0;34m\u001b[0m\u001b[0m\n\u001b[1;32m    173\u001b[0m     \u001b[0m_HANDLED_TYPES\u001b[0m \u001b[0;34m=\u001b[0m \u001b[0;34m(\u001b[0m\u001b[0mnp\u001b[0m\u001b[0;34m.\u001b[0m\u001b[0mndarray\u001b[0m\u001b[0;34m,\u001b[0m \u001b[0mnumbers\u001b[0m\u001b[0;34m.\u001b[0m\u001b[0mNumber\u001b[0m\u001b[0;34m)\u001b[0m\u001b[0;34m\u001b[0m\u001b[0;34m\u001b[0m\u001b[0m\n",
            "\u001b[0;32m/usr/local/lib/python3.6/dist-packages/numpy/core/numeric.py\u001b[0m in \u001b[0;36masarray\u001b[0;34m(a, dtype, order)\u001b[0m\n\u001b[1;32m    536\u001b[0m \u001b[0;34m\u001b[0m\u001b[0m\n\u001b[1;32m    537\u001b[0m     \"\"\"\n\u001b[0;32m--> 538\u001b[0;31m     \u001b[0;32mreturn\u001b[0m \u001b[0marray\u001b[0m\u001b[0;34m(\u001b[0m\u001b[0ma\u001b[0m\u001b[0;34m,\u001b[0m \u001b[0mdtype\u001b[0m\u001b[0;34m,\u001b[0m \u001b[0mcopy\u001b[0m\u001b[0;34m=\u001b[0m\u001b[0;32mFalse\u001b[0m\u001b[0;34m,\u001b[0m \u001b[0morder\u001b[0m\u001b[0;34m=\u001b[0m\u001b[0morder\u001b[0m\u001b[0;34m)\u001b[0m\u001b[0;34m\u001b[0m\u001b[0;34m\u001b[0m\u001b[0m\n\u001b[0m\u001b[1;32m    539\u001b[0m \u001b[0;34m\u001b[0m\u001b[0m\n\u001b[1;32m    540\u001b[0m \u001b[0;34m\u001b[0m\u001b[0m\n",
            "\u001b[0;31mValueError\u001b[0m: setting an array element with a sequence."
          ]
        }
      ]
    },
    {
      "cell_type": "code",
      "metadata": {
        "id": "6vQ5QMAZRQi8",
        "colab_type": "code",
        "colab": {}
      },
      "source": [
        "train_images"
      ],
      "execution_count": 0,
      "outputs": []
    },
    {
      "cell_type": "code",
      "metadata": {
        "id": "5USMpQFtKppL",
        "colab_type": "code",
        "colab": {}
      },
      "source": [
        "#dev_pred.shape\n",
        "train_pred = knn5.predict(train_images)"
      ],
      "execution_count": 0,
      "outputs": []
    },
    {
      "cell_type": "code",
      "metadata": {
        "id": "JQlRLrRfQAx9",
        "colab_type": "code",
        "outputId": "b073da23-9b83-4330-a0d3-0bb4928cff16",
        "colab": {
          "base_uri": "https://localhost:8080/",
          "height": 122
        }
      },
      "source": [
        "metrics.confusion_matrix(encoded, train_pred)\n",
        "metrics.classification_report(dev_encoded, dev_pred)"
      ],
      "execution_count": 0,
      "outputs": [
        {
          "output_type": "stream",
          "text": [
            "/usr/local/lib/python3.6/dist-packages/sklearn/metrics/classification.py:1437: UndefinedMetricWarning: Precision and F-score are ill-defined and being set to 0.0 in labels with no predicted samples.\n",
            "  'precision', 'predicted', average, warn_for)\n",
            "/usr/local/lib/python3.6/dist-packages/sklearn/metrics/classification.py:1439: UndefinedMetricWarning: Recall and F-score are ill-defined and being set to 0.0 in labels with no true samples.\n",
            "  'recall', 'true', average, warn_for)\n"
          ],
          "name": "stderr"
        },
        {
          "output_type": "execute_result",
          "data": {
            "text/plain": [
              "'              precision    recall  f1-score   support\\n\\n           0       0.00      0.00      0.00       1.0\\n           1       0.00      0.00      0.00       1.0\\n           2       0.00      0.00      0.00       1.0\\n           3       0.00      0.00      0.00       1.0\\n           4       0.00      0.00      0.00       1.0\\n           5       0.00      0.00      0.00       1.0\\n           6       0.00      0.00      0.00       1.0\\n           7       0.00      0.00      0.00       1.0\\n           8       0.00      0.00      0.00       1.0\\n           9       0.00      0.00      0.00       1.0\\n          10       0.00      0.00      0.00       1.0\\n          11       0.00      0.00      0.00       1.0\\n          12       0.00      0.00      0.00       1.0\\n          13       0.00      0.00      0.00       1.0\\n          14       0.00      0.00      0.00       1.0\\n          15       0.00      0.00      0.00       1.0\\n          16       0.00      0.00      0.00       1.0\\n          17       0.00      0.00      0.00       1.0\\n          18       0.00      0.00      0.00       1.0\\n          19       0.00      0.00      0.00       1.0\\n          20       0.00      0.00      0.00       1.0\\n          21       0.00      0.00      0.00       1.0\\n          22       0.00      0.00      0.00       1.0\\n          23       0.00      0.00      0.00       1.0\\n          24       0.00      0.00      0.00       1.0\\n          25       0.00      0.00      0.00       1.0\\n          26       0.00      0.00      0.00       1.0\\n          27       0.00      0.00      0.00       1.0\\n          28       0.00      0.00      0.00       1.0\\n          29       0.00      0.00      0.00       1.0\\n          30       0.00      0.00      0.00       1.0\\n          31       0.00      0.00      0.00       1.0\\n          32       0.00      0.00      0.00       1.0\\n          33       0.00      0.00      0.00       1.0\\n          34       0.00      0.00      0.00       1.0\\n          35       0.00      0.00      0.00       1.0\\n          36       0.00      0.00      0.00       1.0\\n          37       0.00      0.00      0.00       1.0\\n          38       0.00      0.00      0.00       1.0\\n          39       0.00      0.00      0.00       1.0\\n          40       0.00      0.00      0.00       1.0\\n          41       0.00      0.00      0.00       1.0\\n          42       0.00      0.00      0.00       1.0\\n          43       0.00      0.00      0.00       1.0\\n          44       0.00      0.00      0.00       1.0\\n          45       0.00      0.00      0.00       1.0\\n          46       0.00      0.00      0.00       1.0\\n          47       0.00      0.00      0.00       1.0\\n          48       0.00      0.00      0.00       1.0\\n          49       0.00      0.00      0.00       1.0\\n          50       0.00      0.00      0.00       1.0\\n          51       0.00      0.00      0.00       1.0\\n          52       0.00      0.00      0.00       1.0\\n          53       0.00      0.00      0.00       1.0\\n          54       0.00      0.00      0.00       1.0\\n          55       0.00      0.00      0.00       1.0\\n          56       0.00      0.00      0.00       1.0\\n          57       0.00      0.00      0.00       1.0\\n          58       0.00      0.00      0.00       1.0\\n          59       0.00      0.00      0.00       1.0\\n          60       0.00      0.00      0.00       1.0\\n          61       0.00      0.00      0.00       1.0\\n          62       0.00      0.00      0.00       1.0\\n          63       0.00      0.00      0.00       1.0\\n          64       0.00      0.00      0.00       1.0\\n          65       0.00      0.00      0.00       1.0\\n          66       0.00      0.00      0.00       1.0\\n          67       0.00      0.00      0.00       1.0\\n          68       0.00      0.00      0.00       1.0\\n          69       0.00      0.00      0.00       1.0\\n          70       0.00      0.00      0.00       1.0\\n          71       0.00      0.00      0.00       1.0\\n          72       0.00      0.00      0.00       1.0\\n          73       0.00      0.00      0.00       1.0\\n          74       0.00      0.00      0.00       1.0\\n          75       0.00      0.00      0.00       1.0\\n          76       0.00      0.00      0.00       1.0\\n          77       0.00      0.00      0.00       1.0\\n          78       0.00      0.00      0.00       1.0\\n          79       0.00      0.00      0.00       1.0\\n          80       0.00      0.00      0.00       2.0\\n          81       0.00      0.00      0.00       1.0\\n          82       0.00      0.00      0.00       1.0\\n          83       0.00      0.00      0.00       1.0\\n          84       0.00      0.00      0.00       1.0\\n          85       0.00      0.00      0.00       1.0\\n          86       0.00      0.00      0.00       1.0\\n          87       0.00      0.00      0.00       1.0\\n          88       0.00      0.00      0.00       1.0\\n          89       0.00      0.00      0.00       1.0\\n          90       0.00      0.00      0.00       1.0\\n          91       0.00      0.00      0.00       1.0\\n          92       0.00      0.00      0.00       1.0\\n          93       0.00      0.00      0.00       1.0\\n          94       0.00      0.00      0.00       1.0\\n          95       0.00      0.00      0.00       1.0\\n          96       0.00      0.00      0.00       1.0\\n          97       0.00      0.00      0.00       1.0\\n          98       0.00      0.00      0.00       1.0\\n          99       0.00      0.00      0.00       1.0\\n         100       0.00      0.00      0.00       1.0\\n         101       0.00      0.00      0.00       1.0\\n         102       0.00      0.00      0.00       1.0\\n         103       0.00      0.00      0.00       1.0\\n         104       0.00      0.00      0.00       1.0\\n         105       0.00      0.00      0.00       1.0\\n         106       0.00      0.00      0.00       1.0\\n         107       0.00      0.00      0.00       1.0\\n         108       0.00      0.00      0.00       1.0\\n         109       0.00      0.00      0.00       1.0\\n         110       0.00      0.00      0.00       1.0\\n         111       0.00      0.00      0.00       1.0\\n         112       0.00      0.00      0.00       1.0\\n         113       0.00      0.00      0.00       1.0\\n         114       0.00      0.00      0.00       1.0\\n         115       0.00      0.00      0.00       1.0\\n         116       0.00      0.00      0.00       1.0\\n         117       0.00      0.00      0.00       1.0\\n         118       0.00      0.00      0.00       1.0\\n         119       0.00      0.00      0.00       1.0\\n         120       0.00      0.00      0.00       1.0\\n         121       0.00      0.00      0.00       1.0\\n         122       0.00      0.00      0.00       1.0\\n         123       0.00      0.00      0.00       1.0\\n         124       0.00      0.00      0.00       1.0\\n         125       0.00      0.00      0.00       1.0\\n         126       0.00      0.00      0.00       1.0\\n         127       0.00      0.00      0.00       1.0\\n         128       0.00      0.00      0.00       1.0\\n         129       0.00      0.00      0.00       1.0\\n         130       0.00      0.00      0.00       1.0\\n         131       0.00      0.00      0.00       1.0\\n         132       0.00      0.00      0.00       1.0\\n         133       0.00      0.00      0.00       2.0\\n         134       0.00      0.00      0.00       1.0\\n         135       0.00      0.00      0.00       1.0\\n         136       0.00      0.00      0.00       1.0\\n         137       0.00      0.00      0.00       1.0\\n         138       0.00      0.00      0.00       1.0\\n         139       0.00      0.00      0.00       1.0\\n         140       0.00      0.00      0.00       1.0\\n         141       0.00      0.00      0.00       2.0\\n         142       0.00      0.00      0.00       1.0\\n         143       0.00      0.00      0.00       2.0\\n         144       0.00      0.00      0.00       1.0\\n         145       0.00      0.00      0.00       1.0\\n         146       0.00      0.00      0.00       1.0\\n         147       0.00      0.00      0.00       1.0\\n         148       0.00      0.00      0.00       1.0\\n         149       0.00      0.00      0.00       1.0\\n         150       0.00      0.00      0.00       1.0\\n         151       0.00      0.00      0.00       1.0\\n         152       0.00      0.00      0.00       1.0\\n         153       0.00      0.00      0.00       1.0\\n         154       0.00      0.00      0.00       1.0\\n         155       0.00      0.00      0.00       1.0\\n         156       0.00      0.00      0.00       1.0\\n         157       0.00      0.00      0.00       1.0\\n         158       0.00      0.00      0.00       1.0\\n         159       0.00      0.00      0.00       1.0\\n         160       0.00      0.00      0.00       1.0\\n         161       0.00      0.00      0.00       1.0\\n         162       0.00      0.00      0.00       1.0\\n         163       0.00      0.00      0.00       1.0\\n         164       0.00      0.00      0.00       1.0\\n         165       0.00      0.00      0.00       1.0\\n         166       0.00      0.00      0.00       1.0\\n         167       0.00      0.00      0.00       1.0\\n         168       0.00      0.00      0.00       1.0\\n         169       0.00      0.00      0.00       1.0\\n         170       0.00      0.00      0.00       1.0\\n         171       0.00      0.00      0.00       1.0\\n         172       0.00      0.00      0.00       1.0\\n         173       0.00      0.00      0.00       2.0\\n         174       0.00      0.00      0.00       1.0\\n         175       0.00      0.00      0.00       1.0\\n         176       0.00      0.00      0.00       1.0\\n         177       0.00      0.00      0.00       1.0\\n         178       0.00      0.00      0.00       1.0\\n         179       0.00      0.00      0.00       1.0\\n         180       0.00      0.00      0.00       1.0\\n         181       0.00      0.00      0.00       1.0\\n         182       0.00      0.00      0.00       1.0\\n         183       0.00      0.00      0.00       1.0\\n         184       0.00      0.00      0.00       1.0\\n         185       0.00      0.00      0.00       1.0\\n         186       0.00      0.00      0.00       1.0\\n         187       0.00      0.00      0.00       1.0\\n         188       0.00      0.00      0.00       1.0\\n         189       0.00      0.00      0.00       1.0\\n         190       0.00      0.00      0.00       1.0\\n         191       0.00      0.00      0.00       1.0\\n         192       0.00      0.00      0.00       1.0\\n         193       0.00      0.00      0.00       1.0\\n         194       0.00      0.00      0.00       1.0\\n         195       0.00      0.00      0.00       1.0\\n         196       0.00      0.00      0.00       1.0\\n         197       0.00      0.00      0.00       1.0\\n         198       0.00      0.00      0.00       1.0\\n         199       0.00      0.00      0.00       1.0\\n         200       0.00      0.00      0.00       1.0\\n         201       0.00      0.00      0.00       1.0\\n         202       0.00      0.00      0.00       1.0\\n         203       0.00      0.00      0.00       1.0\\n         204       0.00      0.00      0.00       1.0\\n         205       0.00      0.00      0.00       1.0\\n         206       0.00      0.00      0.00       1.0\\n         207       0.00      0.00      0.00       1.0\\n         208       0.00      0.00      0.00       1.0\\n         209       0.00      0.00      0.00       1.0\\n         210       0.00      0.00      0.00       1.0\\n         211       0.00      0.00      0.00       1.0\\n         212       0.00      0.00      0.00       1.0\\n         213       0.00      0.00      0.00       1.0\\n         214       0.00      0.00      0.00       1.0\\n         215       0.00      0.00      0.00       1.0\\n         216       0.00      0.00      0.00       1.0\\n         217       0.00      0.00      0.00       1.0\\n         218       0.00      0.00      0.00       1.0\\n         219       0.00      0.00      0.00       1.0\\n         220       0.00      0.00      0.00       1.0\\n         221       0.00      0.00      0.00       1.0\\n         222       0.00      0.00      0.00       1.0\\n         223       0.00      0.00      0.00       1.0\\n         224       0.00      0.00      0.00       1.0\\n         225       0.00      0.00      0.00       1.0\\n         226       0.00      0.00      0.00       1.0\\n         227       0.00      0.00      0.00       1.0\\n         228       0.00      0.00      0.00       1.0\\n         229       0.00      0.00      0.00       2.0\\n         230       0.00      0.00      0.00       2.0\\n         231       0.00      0.00      0.00       1.0\\n         232       0.00      0.00      0.00       2.0\\n         233       0.00      0.00      0.00       1.0\\n         234       0.00      0.00      0.00       1.0\\n         235       0.00      0.00      0.00       1.0\\n         236       0.00      0.00      0.00       1.0\\n         237       0.00      0.00      0.00       1.0\\n         238       0.00      0.00      0.00       1.0\\n         239       0.00      0.00      0.00       1.0\\n         240       0.00      0.00      0.00       1.0\\n         241       0.00      0.00      0.00       1.0\\n         242       0.00      0.00      0.00       1.0\\n         243       0.00      0.00      0.00       1.0\\n         244       0.00      0.00      0.00       1.0\\n         245       0.00      0.00      0.00       1.0\\n         246       0.00      0.00      0.00       1.0\\n         247       0.00      0.00      0.00       1.0\\n         248       0.00      0.00      0.00       2.0\\n         249       0.00      0.00      0.00       2.0\\n         250       0.00      0.00      0.00       1.0\\n         251       0.00      0.00      0.00       1.0\\n         252       0.00      0.00      0.00       1.0\\n         253       0.00      0.00      0.00       1.0\\n         254       0.00      0.00      0.00       1.0\\n         255       0.00      0.00      0.00       1.0\\n         256       0.00      0.00      0.00       2.0\\n         257       0.00      0.00      0.00       1.0\\n         258       0.00      0.00      0.00       1.0\\n         259       0.00      0.00      0.00       1.0\\n         260       0.00      0.00      0.00       1.0\\n         261       0.00      0.00      0.00       1.0\\n         262       0.00      0.00      0.00       1.0\\n         263       0.00      0.00      0.00       1.0\\n         264       0.00      0.00      0.00       2.0\\n         265       0.00      0.00      0.00       1.0\\n         266       0.00      0.00      0.00       1.0\\n         267       0.00      0.00      0.00       1.0\\n         268       0.00      0.00      0.00       1.0\\n         269       0.00      0.00      0.00       1.0\\n         270       0.00      0.00      0.00       1.0\\n         271       0.00      0.00      0.00       1.0\\n         272       0.00      0.00      0.00       1.0\\n         273       0.00      0.00      0.00       1.0\\n         274       0.00      0.00      0.00       1.0\\n         275       0.00      0.00      0.00       1.0\\n         276       0.00      0.00      0.00       1.0\\n         277       0.00      0.00      0.00       1.0\\n         278       0.00      0.00      0.00       1.0\\n         279       0.00      0.00      0.00       1.0\\n         280       0.00      0.00      0.00       1.0\\n         281       0.00      0.00      0.00       1.0\\n         282       0.00      0.00      0.00       1.0\\n         283       0.00      0.00      0.00       1.0\\n         284       0.00      0.00      0.00       1.0\\n         285       0.00      0.00      0.00       1.0\\n         286       0.00      0.00      0.00       1.0\\n         287       0.00      0.00      0.00       1.0\\n         288       0.00      0.00      0.00       1.0\\n         289       0.00      0.00      0.00       1.0\\n         290       0.00      0.00      0.00       2.0\\n         291       0.00      0.00      0.00       1.0\\n         292       0.00      0.00      0.00       2.0\\n         293       0.00      0.00      0.00       1.0\\n         294       0.00      0.00      0.00       1.0\\n         295       0.00      0.00      0.00       1.0\\n         296       0.00      0.00      0.00       1.0\\n         297       0.00      0.00      0.00       1.0\\n         298       0.00      0.00      0.00       1.0\\n         299       0.00      0.00      0.00       1.0\\n         300       0.00      0.00      0.00       1.0\\n         301       0.00      0.00      0.00       1.0\\n         302       0.00      0.00      0.00       1.0\\n         303       0.00      0.00      0.00       1.0\\n         304       0.00      0.00      0.00       1.0\\n         305       0.00      0.00      0.00       1.0\\n         306       0.00      0.00      0.00       1.0\\n         307       0.00      0.00      0.00       1.0\\n         308       0.00      0.00      0.00       1.0\\n         309       0.00      0.00      0.00       1.0\\n         310       0.00      0.00      0.00       1.0\\n         311       0.00      0.00      0.00       2.0\\n         312       0.00      0.00      0.00       1.0\\n         313       0.00      0.00      0.00       1.0\\n         314       0.00      0.00      0.00       1.0\\n         315       0.00      0.00      0.00       1.0\\n         316       0.00      0.00      0.00       1.0\\n         317       0.00      0.00      0.00       1.0\\n         318       0.00      0.00      0.00       1.0\\n         319       0.00      0.00      0.00       1.0\\n         320       0.00      0.00      0.00       1.0\\n         321       0.00      0.00      0.00       1.0\\n         322       0.00      0.00      0.00       1.0\\n         323       0.00      0.00      0.00       1.0\\n         324       0.00      0.00      0.00       1.0\\n         325       0.00      0.00      0.00       1.0\\n         326       0.00      0.00      0.00       1.0\\n         327       0.00      0.00      0.00       1.0\\n         328       0.00      0.00      0.00       1.0\\n         329       0.00      0.00      0.00       1.0\\n         330       0.00      0.00      0.00       1.0\\n         331       0.00      0.00      0.00       1.0\\n         332       0.00      0.00      0.00       1.0\\n         333       0.00      0.00      0.00       1.0\\n         334       0.00      0.00      0.00       1.0\\n         335       0.00      0.00      0.00       1.0\\n         336       0.00      0.00      0.00       1.0\\n         337       0.00      0.00      0.00       1.0\\n         338       0.00      0.00      0.00       1.0\\n         339       0.00      0.00      0.00       1.0\\n         340       0.00      0.00      0.00       1.0\\n         341       0.00      0.00      0.00       1.0\\n         342       0.00      0.00      0.00       1.0\\n         343       0.00      0.00      0.00       1.0\\n         344       0.00      0.00      0.00       1.0\\n         345       0.00      0.00      0.00       1.0\\n         346       0.00      0.00      0.00       1.0\\n         347       0.00      0.00      0.00       1.0\\n         348       0.00      0.00      0.00       1.0\\n         349       0.00      0.00      0.00       1.0\\n         350       0.00      0.00      0.00       1.0\\n         351       0.00      0.00      0.00       1.0\\n         352       0.00      0.00      0.00       2.0\\n         353       0.00      0.00      0.00       1.0\\n         354       0.00      0.00      0.00       1.0\\n         355       0.00      0.00      0.00       1.0\\n         356       0.00      0.00      0.00       1.0\\n         357       0.00      0.00      0.00       1.0\\n         358       0.00      0.00      0.00       1.0\\n         359       0.00      0.00      0.00       2.0\\n         360       0.00      0.00      0.00       1.0\\n         361       0.00      0.00      0.00       1.0\\n         362       0.00      0.00      0.00       1.0\\n         363       0.00      0.00      0.00       1.0\\n         364       0.00      0.00      0.00       1.0\\n         365       0.00      0.00      0.00       1.0\\n         366       0.00      0.00      0.00       1.0\\n         367       0.00      0.00      0.00       1.0\\n         368       0.00      0.00      0.00       1.0\\n         369       0.00      0.00      0.00       2.0\\n         370       0.00      0.00      0.00       1.0\\n         371       0.00      0.00      0.00       1.0\\n         372       0.00      0.00      0.00       1.0\\n         373       0.00      0.00      0.00       1.0\\n         374       0.00      0.00      0.00       1.0\\n         375       0.00      0.00      0.00       2.0\\n         376       0.00      0.00      0.00       1.0\\n         377       0.00      0.00      0.00       1.0\\n         378       0.00      0.00      0.00       1.0\\n         379       0.00      0.00      0.00       1.0\\n         380       0.00      0.00      0.00       1.0\\n         381       0.00      0.00      0.00       1.0\\n         382       0.00      0.00      0.00       1.0\\n         383       0.00      0.00      0.00       1.0\\n         384       0.00      0.00      0.00       1.0\\n         385       0.00      0.00      0.00       1.0\\n         386       0.00      0.00      0.00       1.0\\n         387       0.00      0.00      0.00       1.0\\n         388       0.00      0.00      0.00       1.0\\n         389       0.00      0.00      0.00       1.0\\n         390       0.00      0.00      0.00       1.0\\n         391       0.00      0.00      0.00       1.0\\n         392       0.00      0.00      0.00       2.0\\n         393       0.00      0.00      0.00       1.0\\n         394       0.00      0.00      0.00       1.0\\n         395       0.00      0.00      0.00       1.0\\n         396       0.00      0.00      0.00       1.0\\n         397       0.00      0.00      0.00       1.0\\n         398       0.00      0.00      0.00       1.0\\n         399       0.00      0.00      0.00       1.0\\n         400       0.00      0.00      0.00       2.0\\n         401       0.00      0.00      0.00       1.0\\n         402       0.00      0.00      0.00       1.0\\n         403       0.00      0.00      0.00       2.0\\n         404       0.00      0.00      0.00       1.0\\n         405       0.00      0.00      0.00       1.0\\n         406       0.00      0.00      0.00       1.0\\n         407       0.00      0.00      0.00       1.0\\n         408       0.00      0.00      0.00       1.0\\n         409       0.00      0.00      0.00       1.0\\n         410       0.00      0.00      0.00       1.0\\n         411       0.00      0.00      0.00       1.0\\n         412       0.00      0.00      0.00       1.0\\n         413       0.00      0.00      0.00       1.0\\n         414       0.00      0.00      0.00       1.0\\n         415       0.00      0.00      0.00       1.0\\n         416       0.00      0.00      0.00       3.0\\n         417       0.00      0.00      0.00       1.0\\n         418       0.00      0.00      0.00       1.0\\n         419       0.00      0.00      0.00       1.0\\n         420       0.00      0.00      0.00       1.0\\n         421       0.00      0.00      0.00       1.0\\n         422       0.00      0.00      0.00       1.0\\n         423       0.00      0.00      0.00       1.0\\n         424       0.00      0.00      0.00       2.0\\n         425       0.00      0.00      0.00       1.0\\n         426       0.00      0.00      0.00       1.0\\n         427       0.00      0.00      0.00       2.0\\n         428       0.00      0.00      0.00       1.0\\n         429       0.00      0.00      0.00       1.0\\n         430       0.00      0.00      0.00       1.0\\n         431       0.00      0.00      0.00       1.0\\n         432       0.00      0.00      0.00       1.0\\n         433       0.00      0.00      0.00       1.0\\n         434       0.00      0.00      0.00       1.0\\n         435       0.00      0.00      0.00       1.0\\n         436       0.00      0.00      0.00       1.0\\n         437       0.00      0.00      0.00       1.0\\n         438       0.00      0.00      0.00       1.0\\n         439       0.00      0.00      0.00       1.0\\n         440       0.00      0.00      0.00       1.0\\n         441       0.00      0.00      0.00       1.0\\n         442       0.00      0.00      0.00       1.0\\n         443       0.00      0.00      0.00       1.0\\n         444       0.00      0.00      0.00       1.0\\n         445       0.00      0.00      0.00       1.0\\n         446       0.00      0.00      0.00       1.0\\n         447       0.00      0.00      0.00       2.0\\n         448       0.00      0.00      0.00       1.0\\n         449       0.00      0.00      0.00       1.0\\n         450       0.00      0.00      0.00       1.0\\n         451       0.00      0.00      0.00       1.0\\n         452       0.00      0.00      0.00       1.0\\n         453       0.00      0.00      0.00       1.0\\n         454       0.00      0.00      0.00       1.0\\n         455       0.00      0.00      0.00       1.0\\n         456       0.00      0.00      0.00       1.0\\n         457       0.00      0.00      0.00       1.0\\n         458       0.00      0.00      0.00       1.0\\n         459       0.00      0.00      0.00       1.0\\n         460       0.00      0.00      0.00       1.0\\n         461       0.00      0.00      0.00       1.0\\n         462       0.00      0.00      0.00       1.0\\n         463       0.00      0.00      0.00       2.0\\n         464       0.00      0.00      0.00       1.0\\n         465       0.00      0.00      0.00       1.0\\n         466       0.00      0.00      0.00       2.0\\n         467       0.00      0.00      0.00       1.0\\n         468       0.00      0.00      0.00       1.0\\n         469       0.00      0.00      0.00       1.0\\n         470       0.00      0.00      0.00       1.0\\n         471       0.00      0.00      0.00       1.0\\n         472       0.00      0.00      0.00       1.0\\n         473       0.00      0.00      0.00       1.0\\n         474       0.00      0.00      0.00       1.0\\n         475       0.00      0.00      0.00       1.0\\n         476       0.00      0.00      0.00       1.0\\n         477       0.00      0.00      0.00       1.0\\n         478       0.00      0.00      0.00       1.0\\n         479       0.00      0.00      0.00       1.0\\n         480       0.00      0.00      0.00       1.0\\n         481       0.00      0.00      0.00       1.0\\n         482       0.00      0.00      0.00       1.0\\n         483       0.00      0.00      0.00       1.0\\n         484       0.00      0.00      0.00       1.0\\n         485       0.00      0.00      0.00       1.0\\n         486       0.00      0.00      0.00       1.0\\n         487       0.00      0.00      0.00       1.0\\n         488       0.00      0.00      0.00       1.0\\n         489       0.00      0.00      0.00       1.0\\n         490       0.00      0.00      0.00       2.0\\n         491       0.00      0.00      0.00       1.0\\n         492       0.00      0.00      0.00       1.0\\n         493       0.00      0.00      0.00       1.0\\n         494       0.00      0.00      0.00       1.0\\n         495       0.00      0.00      0.00       1.0\\n         496       0.00      0.00      0.00       1.0\\n         497       0.00      0.00      0.00       1.0\\n         498       0.00      0.00      0.00       1.0\\n         499       0.00      0.00      0.00       1.0\\n         500       0.00      0.00      0.00       1.0\\n         501       0.00      0.00      0.00       1.0\\n         502       0.00      0.00      0.00       1.0\\n         503       0.00      0.00      0.00       1.0\\n         504       0.00      0.00      0.00       1.0\\n         505       0.00      0.00      0.00       1.0\\n         506       0.00      0.00      0.00       1.0\\n         507       0.00      0.00      0.00       1.0\\n         508       0.00      0.00      0.00       1.0\\n         509       0.00      0.00      0.00       1.0\\n         510       0.00      0.00      0.00       1.0\\n         511       0.00      0.00      0.00       2.0\\n         512       0.00      0.00      0.00       1.0\\n         513       0.00      0.00      0.00       1.0\\n         514       0.00      0.00      0.00       3.0\\n         515       0.00      0.00      0.00       1.0\\n         516       0.00      0.00      0.00       1.0\\n         517       0.00      0.00      0.00       1.0\\n         518       0.00      0.00      0.00       1.0\\n         519       0.00      0.00      0.00       2.0\\n         520       0.00      0.00      0.00       1.0\\n         521       0.00      0.00      0.00       1.0\\n         522       0.00      0.00      0.00       1.0\\n         523       0.00      0.00      0.00       1.0\\n         524       0.00      0.00      0.00       1.0\\n         525       0.00      0.00      0.00       1.0\\n         526       0.00      0.00      0.00       1.0\\n         527       0.00      0.00      0.00       2.0\\n         528       0.00      0.00      0.00       1.0\\n         529       0.00      0.00      0.00       1.0\\n         530       0.00      0.00      0.00       2.0\\n         531       0.00      0.00      0.00       1.0\\n         532       0.00      0.00      0.00       1.0\\n         533       0.00      0.00      0.00       1.0\\n         534       0.00      0.00      0.00       1.0\\n         535       0.00      0.00      0.00       2.0\\n         536       0.00      0.00      0.00       1.0\\n         537       0.00      0.00      0.00       1.0\\n         538       0.00      0.00      0.00       1.0\\n         539       0.00      0.00      0.00       1.0\\n         540       0.00      0.00      0.00       1.0\\n         541       0.00      0.00      0.00       1.0\\n         542       0.00      0.00      0.00       2.0\\n         543       0.00      0.00      0.00       1.0\\n         544       0.00      0.00      0.00       1.0\\n         545       0.00      0.00      0.00       2.0\\n         546       0.00      0.00      0.00       2.0\\n         547       0.00      0.00      0.00       1.0\\n         548       0.00      0.00      0.00       1.0\\n         549       0.00      0.00      0.00       1.0\\n         550       0.00      0.00      0.00       1.0\\n         551       0.00      0.00      0.00       1.0\\n         552       0.00      0.00      0.00       2.0\\n         553       0.00      0.00      0.00       1.0\\n         554       0.00      0.00      0.00       1.0\\n         555       0.00      0.00      0.00       1.0\\n         556       0.00      0.00      0.00       1.0\\n         557       0.00      0.00      0.00       1.0\\n         558       0.00      0.00      0.00       1.0\\n         559       0.00      0.00      0.00       1.0\\n         560       0.00      0.00      0.00       1.0\\n         561       0.00      0.00      0.00       1.0\\n         562       0.00      0.00      0.00       1.0\\n         563       0.00      0.00      0.00       1.0\\n         564       0.00      0.00      0.00       1.0\\n         565       0.00      0.00      0.00       3.0\\n         566       0.00      0.00      0.00       1.0\\n         567       0.00      0.00      0.00       1.0\\n         568       0.00      0.00      0.00       1.0\\n         569       0.00      0.00      0.00       1.0\\n         570       0.00      0.00      0.00       1.0\\n         571       0.00      0.00      0.00       1.0\\n         572       0.00      0.00      0.00       1.0\\n         573       0.00      0.00      0.00       1.0\\n         574       0.00      0.00      0.00       2.0\\n         575       0.00      0.00      0.00       1.0\\n         576       0.00      0.00      0.00       1.0\\n         577       0.00      0.00      0.00       2.0\\n         578       0.00      0.00      0.00       1.0\\n         579       0.00      0.00      0.00       1.0\\n         580       0.00      0.00      0.00       1.0\\n         581       0.00      0.00      0.00       1.0\\n         582       0.00      0.00      0.00       1.0\\n         583       0.00      0.00      0.00       1.0\\n         584       0.00      0.00      0.00       1.0\\n         585       0.00      0.00      0.00       1.0\\n         586       0.00      0.00      0.00       1.0\\n         587       0.00      0.00      0.00       1.0\\n         588       0.00      0.00      0.00       1.0\\n         589       0.00      0.00      0.00       2.0\\n         590       0.00      0.00      0.00       1.0\\n         591       0.00      0.00      0.00       1.0\\n         592       0.00      0.00      0.00       1.0\\n         593       0.00      0.00      0.00       2.0\\n         594       0.00      0.00      0.00       1.0\\n         595       0.00      0.00      0.00       2.0\\n         596       0.00      0.00      0.00       1.0\\n         597       0.00      0.00      0.00       1.0\\n         598       0.00      0.00      0.00       1.0\\n         599       0.00      0.00      0.00       1.0\\n         600       0.00      0.00      0.00       1.0\\n         601       0.00      0.00      0.00       1.0\\n         602       0.00      0.00      0.00       1.0\\n         603       0.00      0.00      0.00       2.0\\n         604       0.00      0.00      0.00       2.0\\n         605       0.00      0.00      0.00       1.0\\n         606       0.00      0.00      0.00       1.0\\n         607       0.00      0.00      0.00       3.0\\n         608       0.00      0.00      0.00       1.0\\n         609       0.00      0.00      0.00       1.0\\n         610       0.00      0.00      0.00       1.0\\n         611       0.00      0.00      0.00       1.0\\n         612       0.00      0.00      0.00       1.0\\n         613       0.00      0.00      0.00       2.0\\n         614       0.00      0.00      0.00       1.0\\n         615       0.00      0.00      0.00       1.0\\n         616       0.00      0.00      0.00       1.0\\n         617       0.00      0.00      0.00       1.0\\n         618       0.00      0.00      0.00       2.0\\n         619       0.00      0.00      0.00       1.0\\n         620       0.00      0.00      0.00       1.0\\n         621       0.00      0.00      0.00       1.0\\n         622       0.00      0.00      0.00       2.0\\n         623       0.00      0.00      0.00       1.0\\n         624       0.00      0.00      0.00       1.0\\n         625       0.00      0.00      0.00       1.0\\n         626       0.00      0.00      0.00       2.0\\n         627       0.00      0.00      0.00       1.0\\n         628       0.00      0.00      0.00       1.0\\n         629       0.00      0.00      0.00       1.0\\n         630       0.00      0.00      0.00       1.0\\n         631       0.00      0.00      0.00       1.0\\n         632       0.00      0.00      0.00       1.0\\n         633       0.00      0.00      0.00       2.0\\n         634       0.00      0.00      0.00       2.0\\n         635       0.00      0.00      0.00       1.0\\n         636       0.00      0.00      0.00       1.0\\n         637       0.00      0.00      0.00       1.0\\n         638       0.00      0.00      0.00       1.0\\n         639       0.00      0.00      0.00       1.0\\n         640       0.00      0.00      0.00       1.0\\n         641       0.00      0.00      0.00       2.0\\n         642       0.00      0.00      0.00       1.0\\n         643       0.00      0.00      0.00       1.0\\n         644       0.00      0.00      0.00       1.0\\n         645       0.00      0.00      0.00       1.0\\n         646       0.00      0.00      0.00       1.0\\n         647       0.00      0.00      0.00       1.0\\n         648       0.00      0.00      0.00       1.0\\n         649       0.00      0.00      0.00       1.0\\n         650       0.00      0.00      0.00       2.0\\n         651       0.00      0.00      0.00       1.0\\n         652       0.00      0.00      0.00       1.0\\n         653       0.00      0.00      0.00       1.0\\n         654       0.00      0.00      0.00       1.0\\n         655       0.00      0.00      0.00       1.0\\n         656       0.00      0.00      0.00       2.0\\n         657       0.00      0.00      0.00       1.0\\n         658       0.00      0.00      0.00       2.0\\n         659       0.00      0.00      0.00       1.0\\n         660       0.00      0.00      0.00       1.0\\n         661       0.00      0.00      0.00       2.0\\n         662       0.00      0.00      0.00       1.0\\n         663       0.00      0.00      0.00       2.0\\n         664       0.00      0.00      0.00       1.0\\n         665       0.00      0.00      0.00       1.0\\n         666       0.00      0.00      0.00       1.0\\n         667       0.00      0.00      0.00       1.0\\n         668       0.00      0.00      0.00       2.0\\n         669       0.00      0.00      0.00       1.0\\n         670       0.00      0.00      0.00       1.0\\n         671       0.00      0.00      0.00       1.0\\n         672       0.00      0.00      0.00       1.0\\n         673       0.00      0.00      0.00       1.0\\n         674       0.00      0.00      0.00       1.0\\n         675       0.00      0.00      0.00       2.0\\n         676       0.00      0.00      0.00       1.0\\n         677       0.00      0.00      0.00       2.0\\n         678       0.00      0.00      0.00       1.0\\n         679       0.00      0.00      0.00       2.0\\n         680       0.00      0.00      0.00       1.0\\n         681       0.00      0.00      0.00       1.0\\n         682       0.00      0.00      0.00       3.0\\n         683       0.00      0.00      0.00       1.0\\n         684       0.00      0.00      0.00       1.0\\n         685       0.00      0.00      0.00       1.0\\n         686       0.00      0.00      0.00       1.0\\n         687       0.00      0.00      0.00       1.0\\n         688       0.00      0.00      0.00       2.0\\n         689       0.00      0.00      0.00       1.0\\n         690       0.00      0.00      0.00       1.0\\n         691       0.00      0.00      0.00       1.0\\n         692       0.00      0.00      0.00       1.0\\n         693       0.00      0.00      0.00       1.0\\n         694       0.00      0.00      0.00       1.0\\n         695       0.00      0.00      0.00       1.0\\n         696       0.00      0.00      0.00       1.0\\n         697       0.00      0.00      0.00       1.0\\n         698       0.00      0.00      0.00       1.0\\n         699       0.00      0.00      0.00       1.0\\n         700       0.00      0.00      0.00       1.0\\n         701       0.00      0.00      0.00       1.0\\n         702       0.00      0.00      0.00       1.0\\n         703       0.00      0.00      0.00       1.0\\n         704       0.00      0.00      0.00       2.0\\n         705       0.00      0.00      0.00       1.0\\n         706       0.00      0.00      0.00       1.0\\n         707       0.00      0.00      0.00       2.0\\n         708       0.00      0.00      0.00       1.0\\n         709       0.00      0.00      0.00       1.0\\n         710       0.00      0.00      0.00       1.0\\n         711       0.00      0.00      0.00       1.0\\n         712       0.00      0.00      0.00       1.0\\n         713       0.00      0.00      0.00       2.0\\n         714       0.00      0.00      0.00       1.0\\n         715       0.00      0.00      0.00       2.0\\n         716       0.00      0.00      0.00       1.0\\n         717       0.00      0.00      0.00       1.0\\n         718       0.00      0.00      0.00       1.0\\n         719       0.00      0.00      0.00       1.0\\n         720       0.00      0.00      0.00       1.0\\n         721       0.00      0.00      0.00       1.0\\n         722       0.00      0.00      0.00       1.0\\n         723       0.00      0.00      0.00       1.0\\n         724       0.00      0.00      0.00       1.0\\n         725       0.00      0.00      0.00       1.0\\n         726       0.00      0.00      0.00       1.0\\n         727       0.00      0.00      0.00       1.0\\n         728       0.00      0.00      0.00       1.0\\n         729       0.00      0.00      0.00       1.0\\n         730       0.00      0.00      0.00       1.0\\n         731       0.00      0.00      0.00       1.0\\n         732       0.00      0.00      0.00       1.0\\n         733       0.00      0.00      0.00       1.0\\n         734       0.00      0.00      0.00       1.0\\n         735       0.00      0.00      0.00       1.0\\n         736       0.00      0.00      0.00       2.0\\n         737       0.00      0.00      0.00       1.0\\n         738       0.00      0.00      0.00       1.0\\n         739       0.00      0.00      0.00       1.0\\n         740       0.00      0.00      0.00       1.0\\n         741       0.00      0.00      0.00       1.0\\n         742       0.00      0.00      0.00       1.0\\n         743       0.00      0.00      0.00       2.0\\n         744       0.00      0.00      0.00       1.0\\n         745       0.00      0.00      0.00       1.0\\n         746       0.00      0.00      0.00       1.0\\n         747       0.00      0.00      0.00       1.0\\n         748       0.00      0.00      0.00       1.0\\n         749       0.00      0.00      0.00       1.0\\n         750       0.00      0.00      0.00       2.0\\n         751       0.00      0.00      0.00       1.0\\n         752       0.00      0.00      0.00       1.0\\n         753       0.00      0.00      0.00       1.0\\n         754       0.00      0.00      0.00       1.0\\n         755       0.00      0.00      0.00       1.0\\n         756       0.00      0.00      0.00       2.0\\n         757       0.00      0.00      0.00       1.0\\n         758       0.00      0.00      0.00       1.0\\n         759       0.00      0.00      0.00       1.0\\n         760       0.00      0.00      0.00       1.0\\n         761       0.00      0.00      0.00       2.0\\n         762       0.00      0.00      0.00       1.0\\n         763       0.00      0.00      0.00       1.0\\n         764       0.00      0.00      0.00       1.0\\n         765       0.00      0.00      0.00       1.0\\n         766       0.00      0.00      0.00       1.0\\n         767       0.00      0.00      0.00       1.0\\n         768       0.00      0.00      0.00       1.0\\n         769       0.00      0.00      0.00       1.0\\n         770       0.00      0.00      0.00       2.0\\n         771       0.00      0.00      0.00       1.0\\n         772       0.00      0.00      0.00       1.0\\n         773       0.00      0.00      0.00       1.0\\n         774       0.00      0.00      0.00       1.0\\n         775       0.00      0.00      0.00       1.0\\n         776       0.00      0.00      0.00       1.0\\n         777       0.00      0.00      0.00       1.0\\n         778       0.00      0.00      0.00       1.0\\n         779       0.00      0.00      0.00       2.0\\n         780       0.00      0.00      0.00       1.0\\n         781       0.00      0.00      0.00       1.0\\n         782       0.00      0.00      0.00       1.0\\n         783       0.00      0.00      0.00       2.0\\n         784       0.00      0.00      0.00       1.0\\n         785       0.00      0.00      0.00       1.0\\n         786       0.00      0.00      0.00       1.0\\n         787       0.00      0.00      0.00       1.0\\n         788       0.00      0.00      0.00       1.0\\n         789       0.00      0.00      0.00       1.0\\n         790       0.00      0.00      0.00       1.0\\n         791       0.00      0.00      0.00       2.0\\n         792       0.00      0.00      0.00       1.0\\n         793       0.00      0.00      0.00       1.0\\n         794       0.00      0.00      0.00       1.0\\n         795       0.00      0.00      0.00       1.0\\n         796       0.00      0.00      0.00       1.0\\n         797       0.00      0.00      0.00       1.0\\n         798       0.00      0.00      0.00       1.0\\n         799       0.00      0.00      0.00       1.0\\n         800       0.00      0.00      0.00       1.0\\n         801       0.00      0.00      0.00       1.0\\n         802       0.00      0.00      0.00       1.0\\n         803       0.00      0.00      0.00       2.0\\n         804       0.00      0.00      0.00       1.0\\n         805       0.00      0.00      0.00       1.0\\n         806       0.00      0.00      0.00       2.0\\n         807       0.00      0.00      0.00       1.0\\n         808       0.00      0.00      0.00       1.0\\n         809       0.00      0.00      0.00       1.0\\n         810       0.00      0.00      0.00       1.0\\n         811       0.00      0.00      0.00       1.0\\n         812       0.00      0.00      0.00       1.0\\n         813       0.00      0.00      0.00       1.0\\n         814       0.00      0.00      0.00       1.0\\n         815       0.00      0.00      0.00       1.0\\n         816       0.00      0.00      0.00       1.0\\n         817       0.00      0.00      0.00       1.0\\n         818       0.00      0.00      0.00       1.0\\n         819       0.00      0.00      0.00       1.0\\n         820       0.00      0.00      0.00       1.0\\n         821       0.00      0.00      0.00       1.0\\n         822       0.00      0.00      0.00       1.0\\n         823       0.00      0.00      0.00       1.0\\n         824       0.00      0.00      0.00       1.0\\n         825       0.00      0.00      0.00       2.0\\n         826       0.00      0.00      0.00       1.0\\n         827       0.00      0.00      0.00       2.0\\n         828       0.00      0.00      0.00       2.0\\n         829       0.00      0.00      0.00       2.0\\n         830       0.00      0.00      0.00       1.0\\n         831       0.00      0.00      0.00       1.0\\n         832       0.00      0.00      0.00       1.0\\n         833       0.00      0.00      0.00       2.0\\n         834       0.00      0.00      0.00       1.0\\n         835       0.00      0.00      0.00       2.0\\n         836       0.00      0.00      0.00       1.0\\n         837       0.00      0.00      0.00       1.0\\n         838       0.00      0.00      0.00       2.0\\n         839       0.00      0.00      0.00       1.0\\n         840       0.00      0.00      0.00       1.0\\n         841       0.00      0.00      0.00       1.0\\n         842       0.00      0.00      0.00       1.0\\n         843       0.00      0.00      0.00       2.0\\n         844       0.00      0.00      0.00       1.0\\n         845       0.00      0.00      0.00       1.0\\n         846       0.00      0.00      0.00       2.0\\n         847       0.00      0.00      0.00       1.0\\n         848       0.00      0.00      0.00       1.0\\n         849       0.00      0.00      0.00       1.0\\n         850       0.00      0.00      0.00       1.0\\n         851       0.00      0.00      0.00       1.0\\n         852       0.00      0.00      0.00       1.0\\n         853       0.00      0.00      0.00       1.0\\n         854       0.00      0.00      0.00       2.0\\n         855       0.00      0.00      0.00       2.0\\n         856       0.00      0.00      0.00       1.0\\n         857       0.00      0.00      0.00       1.0\\n         858       0.00      0.00      0.00       1.0\\n         859       0.00      0.00      0.00       1.0\\n         860       0.00      0.00      0.00       2.0\\n         861       0.00      0.00      0.00       1.0\\n         862       0.00      0.00      0.00       1.0\\n         863       0.00      0.00      0.00       1.0\\n         864       0.00      0.00      0.00       1.0\\n         865       0.00      0.00      0.00       2.0\\n         866       0.00      0.00      0.00       1.0\\n         867       0.00      0.00      0.00       1.0\\n         868       0.00      0.00      0.00       1.0\\n         869       0.00      0.00      0.00       1.0\\n         870       0.00      0.00      0.00       1.0\\n         871       0.00      0.00      0.00       1.0\\n         872       0.00      0.00      0.00       2.0\\n         873       0.00      0.00      0.00       1.0\\n         874       0.00      0.00      0.00       1.0\\n         875       0.00      0.00      0.00       2.0\\n         876       0.00      0.00      0.00       1.0\\n         877       0.00      0.00      0.00       1.0\\n         878       0.00      0.00      0.00       1.0\\n         879       0.00      0.00      0.00       1.0\\n         880       0.00      0.00      0.00       1.0\\n         881       0.00      0.00      0.00       1.0\\n         882       0.00      0.00      0.00       3.0\\n         883       0.00      0.00      0.00       1.0\\n         884       0.00      0.00      0.00       1.0\\n         885       0.00      0.00      0.00       1.0\\n         886       0.00      0.00      0.00       1.0\\n         887       0.00      0.00      0.00       1.0\\n         888       0.00      0.00      0.00       1.0\\n         889       0.00      0.00      0.00       1.0\\n         890       0.00      0.00      0.00       1.0\\n         891       0.00      0.00      0.00       1.0\\n         892       0.00      0.00      0.00       1.0\\n         893       0.00      0.00      0.00       1.0\\n         894       0.00      0.00      0.00       1.0\\n         895       0.00      0.00      0.00       1.0\\n         896       0.00      0.00      0.00       1.0\\n         897       0.00      0.00      0.00       1.0\\n         898       0.00      0.00      0.00       1.0\\n         899       0.00      0.00      0.00       1.0\\n         900       0.00      0.00      0.00       1.0\\n         901       0.00      0.00      0.00       1.0\\n         902       0.00      0.00      0.00       1.0\\n         903       0.00      0.00      0.00       1.0\\n         904       0.00      0.00      0.00       1.0\\n         905       0.00      0.00      0.00       1.0\\n         906       0.00      0.00      0.00       2.0\\n         907       0.00      0.00      0.00       1.0\\n         908       0.00      0.00      0.00       1.0\\n         909       0.00      0.00      0.00       1.0\\n         910       0.00      0.00      0.00       1.0\\n         911       0.00      0.00      0.00       1.0\\n         912       0.00      0.00      0.00       1.0\\n         913       0.00      0.00      0.00       1.0\\n         914       0.00      0.00      0.00       1.0\\n         915       0.00      0.00      0.00       1.0\\n         916       0.00      0.00      0.00       1.0\\n         917       0.00      0.00      0.00       1.0\\n         918       0.00      0.00      0.00       1.0\\n         919       0.00      0.00      0.00       1.0\\n         920       0.00      0.00      0.00       3.0\\n         921       0.00      0.00      0.00       1.0\\n         922       0.00      0.00      0.00       1.0\\n         923       0.00      0.00      0.00       1.0\\n         924       0.00      0.00      0.00       1.0\\n         925       0.00      0.00      0.00       1.0\\n         926       0.00      0.00      0.00       1.0\\n         927       0.00      0.00      0.00       2.0\\n         928       0.00      0.00      0.00       1.0\\n         929       0.00      0.00      0.00       2.0\\n         930       0.00      0.00      0.00       1.0\\n         931       0.00      0.00      0.00       1.0\\n         932       0.00      0.00      0.00       1.0\\n         933       0.00      0.00      0.00       1.0\\n         934       0.00      0.00      0.00       1.0\\n         935       0.00      0.00      0.00       3.0\\n         936       0.00      0.00      0.00       2.0\\n         937       0.00      0.00      0.00       1.0\\n         938       0.00      0.00      0.00       1.0\\n         939       0.00      0.00      0.00       1.0\\n         940       0.00      0.00      0.00       1.0\\n         941       0.00      0.00      0.00       1.0\\n         942       0.00      0.00      0.00       1.0\\n         943       0.00      0.00      0.00       1.0\\n         944       0.00      0.00      0.00       1.0\\n         945       0.00      0.00      0.00       1.0\\n         946       0.00      0.00      0.00       1.0\\n         947       0.00      0.00      0.00       2.0\\n         948       0.00      0.00      0.00       1.0\\n         949       0.00      0.00      0.00       1.0\\n         950       0.00      0.00      0.00       1.0\\n         951       0.00      0.00      0.00       1.0\\n         952       0.00      0.00      0.00       1.0\\n         953       0.00      0.00      0.00       1.0\\n         954       0.00      0.00      0.00       1.0\\n         955       0.00      0.00      0.00       1.0\\n         956       0.00      0.00      0.00       1.0\\n         957       0.00      0.00      0.00       1.0\\n         958       0.00      0.00      0.00       1.0\\n         959       0.00      0.00      0.00       1.0\\n         960       0.00      0.00      0.00       1.0\\n         961       0.00      0.00      0.00       2.0\\n         962       0.00      0.00      0.00       1.0\\n         963       0.00      0.00      0.00       1.0\\n         964       0.00      0.00      0.00       2.0\\n         965       0.00      0.00      0.00       1.0\\n         966       0.00      0.00      0.00       1.0\\n         967       0.00      0.00      0.00       1.0\\n         968       0.00      0.00      0.00       1.0\\n         969       0.00      0.00      0.00       1.0\\n         970       0.00      0.00      0.00       1.0\\n         971       0.00      0.00      0.00       1.0\\n         972       0.00      0.00      0.00       1.0\\n         973       0.00      0.00      0.00       2.0\\n         974       0.00      0.00      0.00       1.0\\n         975       0.00      0.00      0.00       1.0\\n         976       0.00      0.00      0.00       1.0\\n         977       0.00      0.00      0.00       1.0\\n         978       0.00      0.00      0.00       1.0\\n         979       0.00      0.00      0.00       1.0\\n         980       0.00      0.00      0.00       1.0\\n         981       0.00      0.00      0.00       1.0\\n         982       0.00      0.00      0.00       1.0\\n         983       0.00      0.00      0.00       1.0\\n         984       0.00      0.00      0.00       2.0\\n         985       0.00      0.00      0.00       1.0\\n         986       0.00      0.00      0.00       1.0\\n         987       0.00      0.00      0.00       1.0\\n         988       0.00      0.00      0.00       1.0\\n         989       0.00      0.00      0.00       1.0\\n         990       0.00      0.00      0.00       1.0\\n         991       0.00      0.00      0.00       1.0\\n         992       0.00      0.00      0.00       1.0\\n         993       0.00      0.00      0.00       1.0\\n         994       0.00      0.00      0.00       1.0\\n         995       0.00      0.00      0.00       1.0\\n         996       0.00      0.00      0.00       1.0\\n         997       0.00      0.00      0.00       1.0\\n         998       0.00      0.00      0.00       2.0\\n         999       0.00      0.00      0.00       1.0\\n        1000       0.00      0.00      0.00       1.0\\n        1001       0.00      0.00      0.00       1.0\\n        1002       0.00      0.00      0.00       1.0\\n        1003       0.00      0.00      0.00       1.0\\n        1004       0.00      0.00      0.00       1.0\\n        1005       0.00      0.00      0.00       1.0\\n        1006       0.00      0.00      0.00       1.0\\n        1007       0.00      0.00      0.00       1.0\\n        1008       0.00      0.00      0.00       1.0\\n        1009       0.00      0.00      0.00       1.0\\n        1010       0.00      0.00      0.00       1.0\\n        1011       0.00      0.00      0.00       1.0\\n        1012       0.00      0.00      0.00       2.0\\n        1013       0.00      0.00      0.00       1.0\\n        1014       0.00      0.00      0.00       1.0\\n        1015       0.00      0.00      0.00       1.0\\n        1016       0.00      0.00      0.00       1.0\\n        1017       0.00      0.00      0.00       1.0\\n        1018       0.00      0.00      0.00       1.0\\n        1019       0.00      0.00      0.00       1.0\\n        1020       0.00      0.00      0.00       1.0\\n        1021       0.00      0.00      0.00       1.0\\n        1022       0.00      0.00      0.00       1.0\\n        1023       0.00      0.00      0.00       1.0\\n        1024       0.00      0.00      0.00       1.0\\n        1025       0.00      0.00      0.00       1.0\\n        1026       0.00      0.00      0.00       1.0\\n        1027       0.00      0.00      0.00       1.0\\n        1028       0.00      0.00      0.00       1.0\\n        1029       0.00      0.00      0.00       1.0\\n        1030       0.00      0.00      0.00       1.0\\n        1031       0.00      0.00      0.00       1.0\\n        1032       0.00      0.00      0.00       1.0\\n        1033       0.00      0.00      0.00       2.0\\n        1034       0.00      0.00      0.00       1.0\\n        1035       0.00      0.00      0.00       1.0\\n        1036       0.00      0.00      0.00       1.0\\n        1037       0.00      0.00      0.00       1.0\\n        1038       0.00      0.00      0.00       1.0\\n        1039       0.00      0.00      0.00       1.0\\n        1040       0.00      0.00      0.00       2.0\\n        1041       0.00      0.00      0.00       2.0\\n        1042       0.00      0.00      0.00       1.0\\n        1043       0.00      0.00      0.00       1.0\\n        1044       0.00      0.00      0.00       3.0\\n        1045       0.00      0.00      0.00       2.0\\n        1046       0.00      0.00      0.00       1.0\\n        1047       0.00      0.00      0.00       2.0\\n        1048       0.00      0.00      0.00       1.0\\n        1049       0.00      0.00      0.00       1.0\\n        1050       0.00      0.00      0.00       1.0\\n        1051       0.00      0.00      0.00       1.0\\n        1052       0.00      0.00      0.00       1.0\\n        1053       0.00      0.00      0.00       1.0\\n        1054       0.00      0.00      0.00       1.0\\n        1055       0.00      0.00      0.00       1.0\\n        1056       0.00      0.00      0.00       2.0\\n        1057       0.00      0.00      0.00       1.0\\n        1058       0.00      0.00      0.00       1.0\\n        1059       0.00      0.00      0.00       1.0\\n        1060       0.00      0.00      0.00       1.0\\n        1061       0.00      0.00      0.00       1.0\\n        1062       0.00      0.00      0.00       1.0\\n        1063       0.00      0.00      0.00       1.0\\n        1064       0.00      0.00      0.00       1.0\\n        1065       0.00      0.00      0.00       1.0\\n        1066       0.00      0.00      0.00       1.0\\n        1067       0.00      0.00      0.00       1.0\\n        1068       0.00      0.00      0.00       1.0\\n        1069       0.00      0.00      0.00       2.0\\n        1070       0.00      0.00      0.00       1.0\\n        1071       0.00      0.00      0.00       3.0\\n        1072       0.00      0.00      0.00       1.0\\n        1073       0.00      0.00      0.00       1.0\\n        1074       0.00      0.00      0.00       1.0\\n        1075       0.00      0.00      0.00       1.0\\n        1076       0.00      0.00      0.00       2.0\\n        1077       0.00      0.00      0.00       1.0\\n        1078       0.00      0.00      0.00       2.0\\n        1079       0.00      0.00      0.00       2.0\\n        1080       0.00      0.00      0.00       1.0\\n        1081       0.00      0.00      0.00       1.0\\n        1082       0.00      0.00      0.00       1.0\\n        1083       0.00      0.00      0.00       1.0\\n        1084       0.00      0.00      0.00       1.0\\n        1085       0.00      0.00      0.00       1.0\\n        1086       0.00      0.00      0.00       1.0\\n        1087       0.00      0.00      0.00       1.0\\n        1088       0.00      0.00      0.00       1.0\\n        1089       0.00      0.00      0.00       1.0\\n        1090       0.00      0.00      0.00       1.0\\n        1091       0.00      0.00      0.00       1.0\\n        1092       0.00      0.00      0.00       2.0\\n        1093       0.00      0.00      0.00       2.0\\n        1094       0.00      0.00      0.00       1.0\\n        1095       0.00      0.00      0.00       1.0\\n        1096       0.00      0.00      0.00       1.0\\n        1097       0.00      0.00      0.00       2.0\\n        1098       0.00      0.00      0.00       1.0\\n        1099       0.00      0.00      0.00       1.0\\n        1100       0.00      0.00      0.00       1.0\\n        1101       0.00      0.00      0.00       1.0\\n        1102       0.00      0.00      0.00       1.0\\n        1103       0.00      0.00      0.00       1.0\\n        1104       0.00      0.00      0.00       1.0\\n        1105       0.00      0.00      0.00       1.0\\n        1106       0.00      0.00      0.00       1.0\\n        1107       0.00      0.00      0.00       1.0\\n        1108       0.00      0.00      0.00       1.0\\n        1109       0.00      0.00      0.00       1.0\\n        1110       0.00      0.00      0.00       1.0\\n        1111       0.00      0.00      0.00       1.0\\n        1112       0.00      0.00      0.00       1.0\\n        1113       0.00      0.00      0.00       1.0\\n        1114       0.00      0.00      0.00       1.0\\n        1115       0.00      0.00      0.00       1.0\\n        1116       0.00      0.00      0.00       1.0\\n        1117       0.00      0.00      0.00       2.0\\n        1118       0.00      0.00      0.00       1.0\\n        1119       0.00      0.00      0.00       1.0\\n        1120       0.00      0.00      0.00       1.0\\n        1121       0.00      0.00      0.00       2.0\\n        1122       0.00      0.00      0.00       1.0\\n        1123       0.00      0.00      0.00       1.0\\n        1124       0.00      0.00      0.00       1.0\\n        1125       0.00      0.00      0.00       1.0\\n        1126       0.00      0.00      0.00       1.0\\n        1127       0.00      0.00      0.00       1.0\\n        1128       0.00      0.00      0.00       1.0\\n        1129       0.00      0.00      0.00       1.0\\n        1130       0.00      0.00      0.00       1.0\\n        1131       0.00      0.00      0.00       3.0\\n        1132       0.00      0.00      0.00       1.0\\n        1133       0.00      0.00      0.00       1.0\\n        1134       0.00      0.00      0.00       1.0\\n        1135       0.00      0.00      0.00       1.0\\n        1136       0.00      0.00      0.00       1.0\\n        1137       0.00      0.00      0.00       2.0\\n        1138       0.00      0.00      0.00       1.0\\n        1139       0.00      0.00      0.00       1.0\\n        1140       0.00      0.00      0.00       1.0\\n        1141       0.00      0.00      0.00       1.0\\n        1142       0.00      0.00      0.00       1.0\\n        1143       0.00      0.00      0.00       1.0\\n        1144       0.00      0.00      0.00       1.0\\n        1145       0.00      0.00      0.00       1.0\\n        1146       0.00      0.00      0.00       1.0\\n        1147       0.00      0.00      0.00       1.0\\n        1148       0.00      0.00      0.00       1.0\\n        1149       0.00      0.00      0.00       1.0\\n        1150       0.00      0.00      0.00       1.0\\n        1151       0.00      0.00      0.00       1.0\\n        1152       0.00      0.00      0.00       2.0\\n        1153       0.00      0.00      0.00       1.0\\n        1154       0.00      0.00      0.00       1.0\\n        1155       0.00      0.00      0.00       1.0\\n        1156       0.00      0.00      0.00       1.0\\n        1157       0.00      0.00      0.00       1.0\\n        1158       0.00      0.00      0.00       1.0\\n        1159       0.00      0.00      0.00       1.0\\n        1160       0.00      0.00      0.00       1.0\\n        1161       0.00      0.00      0.00       1.0\\n        1162       0.00      0.00      0.00       2.0\\n        1163       0.00      0.00      0.00       1.0\\n        1164       0.00      0.00      0.00       1.0\\n        1165       0.00      0.00      0.00       1.0\\n        1166       0.00      0.00      0.00       1.0\\n        1167       0.00      0.00      0.00       1.0\\n        1168       0.00      0.00      0.00       1.0\\n        1169       0.00      0.00      0.00       1.0\\n        1170       0.00      0.00      0.00       1.0\\n        1171       0.00      0.00      0.00       1.0\\n        1172       0.00      0.00      0.00       1.0\\n        1173       0.00      0.00      0.00       1.0\\n        1174       0.00      0.00      0.00       1.0\\n        1175       0.00      0.00      0.00       1.0\\n        1176       0.00      0.00      0.00       1.0\\n        1177       0.00      0.00      0.00       1.0\\n        1178       0.00      0.00      0.00       1.0\\n        1179       0.00      0.00      0.00       2.0\\n        1180       0.00      0.00      0.00       1.0\\n        1181       0.00      0.00      0.00       1.0\\n        1182       0.00      0.00      0.00       2.0\\n        1183       0.00      0.00      0.00       1.0\\n        1184       0.00      0.00      0.00       2.0\\n        1185       0.00      0.00      0.00       1.0\\n        1186       0.00      0.00      0.00       1.0\\n        1187       0.00      0.00      0.00       1.0\\n        1188       0.00      0.00      0.00       2.0\\n        1189       0.00      0.00      0.00       1.0\\n        1190       0.00      0.00      0.00       1.0\\n        1191       0.00      0.00      0.00       2.0\\n        1192       0.00      0.00      0.00       1.0\\n        1193       0.00      0.00      0.00       1.0\\n        1194       0.00      0.00      0.00       1.0\\n        1195       0.00      0.00      0.00       1.0\\n        1196       0.00      0.00      0.00       1.0\\n        1197       0.00      0.00      0.00       2.0\\n        1198       0.00      0.00      0.00       1.0\\n        1199       0.00      0.00      0.00       2.0\\n        1200       0.00      0.00      0.00       1.0\\n        1201       0.00      0.00      0.00       1.0\\n        1202       0.00      0.00      0.00       1.0\\n        1203       0.00      0.00      0.00       1.0\\n        1204       0.00      0.00      0.00       1.0\\n        1205       0.00      0.00      0.00       2.0\\n        1206       0.00      0.00      0.00       1.0\\n        1207       0.00      0.00      0.00       1.0\\n        1208       0.00      0.00      0.00       1.0\\n        1209       0.00      0.00      0.00       1.0\\n        1210       0.00      0.00      0.00       1.0\\n        1211       0.00      0.00      0.00       1.0\\n        1212       0.00      0.00      0.00       1.0\\n        1213       0.00      0.00      0.00       1.0\\n        1214       0.00      0.00      0.00       1.0\\n        1215       0.00      0.00      0.00       1.0\\n        1216       0.00      0.00      0.00       1.0\\n        1217       0.00      0.00      0.00       2.0\\n        1218       0.00      0.00      0.00       2.0\\n        1219       0.00      0.00      0.00       1.0\\n        1220       0.00      0.00      0.00       2.0\\n        1221       0.00      0.00      0.00       1.0\\n        1222       0.00      0.00      0.00       1.0\\n        1223       0.00      0.00      0.00       1.0\\n        1224       0.00      0.00      0.00       1.0\\n        1225       0.00      0.00      0.00       2.0\\n        1226       0.00      0.00      0.00       1.0\\n        1227       0.00      0.00      0.00       2.0\\n        1228       0.00      0.00      0.00       1.0\\n        1229       0.00      0.00      0.00       1.0\\n        1230       0.00      0.00      0.00       1.0\\n        1231       0.00      0.00      0.00       1.0\\n        1232       0.00      0.00      0.00       1.0\\n        1233       0.00      0.00      0.00       1.0\\n        1234       0.00      0.00      0.00       2.0\\n        1235       0.00      0.00      0.00       1.0\\n        1236       0.00      0.00      0.00       1.0\\n        1237       0.00      0.00      0.00       1.0\\n        1238       0.00      0.00      0.00       1.0\\n        1239       0.00      0.00      0.00       3.0\\n        1240       0.00      0.00      0.00       1.0\\n        1241       0.00      0.00      0.00       1.0\\n        1242       0.00      0.00      0.00       1.0\\n        1243       0.00      0.00      0.00       1.0\\n        1244       0.00      0.00      0.00       1.0\\n        1245       0.00      0.00      0.00       2.0\\n        1246       0.00      0.00      0.00       1.0\\n        1247       0.00      0.00      0.00       1.0\\n        1248       0.00      0.00      0.00       1.0\\n        1249       0.00      0.00      0.00       1.0\\n        1250       0.00      0.00      0.00       1.0\\n        1251       0.00      0.00      0.00       1.0\\n        1252       0.00      0.00      0.00       1.0\\n        1253       0.00      0.00      0.00       2.0\\n        1254       0.00      0.00      0.00       1.0\\n        1255       0.00      0.00      0.00       1.0\\n        1256       0.00      0.00      0.00       1.0\\n        1257       0.00      0.00      0.00       1.0\\n        1258       0.00      0.00      0.00       1.0\\n        1259       0.00      0.00      0.00       1.0\\n        1260       0.00      0.00      0.00       1.0\\n        1261       0.00      0.00      0.00       1.0\\n        1262       0.00      0.00      0.00       1.0\\n        1263       0.00      0.00      0.00       1.0\\n        1264       0.00      0.00      0.00       1.0\\n        1265       0.00      0.00      0.00       2.0\\n        1266       0.00      0.00      0.00       1.0\\n        1267       0.00      0.00      0.00       1.0\\n        1268       0.00      0.00      0.00       2.0\\n        1269       0.00      0.00      0.00       1.0\\n        1270       0.00      0.00      0.00       1.0\\n        1271       0.00      0.00      0.00       1.0\\n        1272       0.00      0.00      0.00       1.0\\n        1273       0.00      0.00      0.00       2.0\\n        1274       0.00      0.00      0.00       2.0\\n        1275       0.00      0.00      0.00       1.0\\n        1276       0.00      0.00      0.00       1.0\\n        1277       0.00      0.00      0.00       1.0\\n        1278       0.00      0.00      0.00       1.0\\n        1279       0.00      0.00      0.00       1.0\\n        1280       0.00      0.00      0.00       2.0\\n        1281       0.00      0.00      0.00       1.0\\n        1282       0.00      0.00      0.00       1.0\\n        1283       0.00      0.00      0.00       1.0\\n        1284       0.00      0.00      0.00       1.0\\n        1285       0.00      0.00      0.00       1.0\\n        1286       0.00      0.00      0.00       1.0\\n        1287       0.00      0.00      0.00       1.0\\n        1288       0.00      0.00      0.00       1.0\\n        1289       0.00      0.00      0.00       1.0\\n        1290       0.00      0.00      0.00       1.0\\n        1291       0.00      0.00      0.00       1.0\\n        1292       0.00      0.00      0.00       1.0\\n        1293       0.00      0.00      0.00       1.0\\n        1294       0.00      0.00      0.00       1.0\\n        1295       0.00      0.00      0.00       1.0\\n        1296       0.00      0.00      0.00       1.0\\n        1297       0.00      0.00      0.00       1.0\\n        1298       0.00      0.00      0.00       1.0\\n        1299       0.00      0.00      0.00       1.0\\n        1300       0.00      0.00      0.00       1.0\\n        1301       0.00      0.00      0.00       1.0\\n        1302       0.00      0.00      0.00       1.0\\n        1303       0.00      0.00      0.00       2.0\\n        1304       0.00      0.00      0.00       1.0\\n        1305       0.00      0.00      0.00       1.0\\n        1306       0.00      0.00      0.00       1.0\\n        1307       0.00      0.00      0.00       1.0\\n        1308       0.00      0.00      0.00       1.0\\n        1309       0.00      0.00      0.00       1.0\\n        1310       0.00      0.00      0.00       1.0\\n        1311       0.00      0.00      0.00       1.0\\n        1312       0.00      0.00      0.00       1.0\\n        1313       0.00      0.00      0.00       1.0\\n        1314       0.00      0.00      0.00       1.0\\n        1315       0.00      0.00      0.00       1.0\\n        1316       0.00      0.00      0.00       1.0\\n        1317       0.00      0.00      0.00       1.0\\n        1318       0.00      0.00      0.00       2.0\\n        1319       0.00      0.00      0.00       1.0\\n        1320       0.00      0.00      0.00       1.0\\n        1321       0.00      0.00      0.00       1.0\\n        1322       0.00      0.00      0.00       1.0\\n        1323       0.00      0.00      0.00       1.0\\n        1324       0.00      0.00      0.00       1.0\\n        1325       0.00      0.00      0.00       1.0\\n        1326       0.00      0.00      0.00       1.0\\n        1327       0.00      0.00      0.00       1.0\\n        1328       0.00      0.00      0.00       1.0\\n        1329       0.00      0.00      0.00       1.0\\n        1330       0.00      0.00      0.00       1.0\\n        1331       0.00      0.00      0.00       1.0\\n        1332       0.00      0.00      0.00       1.0\\n        1333       0.00      0.00      0.00       1.0\\n        1334       0.00      0.00      0.00       1.0\\n        1335       0.00      0.00      0.00       1.0\\n        1336       0.00      0.00      0.00       1.0\\n        1337       0.00      0.00      0.00       1.0\\n        1338       0.00      0.00      0.00       1.0\\n        1339       0.00      0.00      0.00       1.0\\n        1340       0.00      0.00      0.00       1.0\\n        1341       0.00      0.00      0.00       1.0\\n        1342       0.00      0.00      0.00       1.0\\n        1343       0.00      0.00      0.00       1.0\\n        1344       0.00      0.00      0.00       1.0\\n        1345       0.00      0.00      0.00       1.0\\n        1346       0.00      0.00      0.00       1.0\\n        1347       0.00      0.00      0.00       2.0\\n        1348       0.00      0.00      0.00       1.0\\n        1349       0.00      0.00      0.00       1.0\\n        1350       0.00      0.00      0.00       2.0\\n        1351       0.00      0.00      0.00       1.0\\n        1352       0.00      0.00      0.00       1.0\\n        1353       0.00      0.00      0.00       1.0\\n        1354       0.00      0.00      0.00       1.0\\n        1355       0.00      0.00      0.00       1.0\\n        1356       0.00      0.00      0.00       3.0\\n        1357       0.00      0.00      0.00       1.0\\n        1358       0.00      0.00      0.00       1.0\\n        1359       0.00      0.00      0.00       1.0\\n        1360       0.00      0.00      0.00       1.0\\n        1361       0.00      0.00      0.00       1.0\\n        1362       0.00      0.00      0.00       1.0\\n        1363       0.00      0.00      0.00       1.0\\n        1364       0.00      0.00      0.00       1.0\\n        1365       0.00      0.00      0.00       1.0\\n        1366       0.00      0.00      0.00       2.0\\n        1367       0.00      0.00      0.00       1.0\\n        1368       0.00      0.00      0.00       1.0\\n        1369       0.00      0.00      0.00       1.0\\n        1370       0.00      0.00      0.00       1.0\\n        1371       0.00      0.00      0.00       1.0\\n        1372       0.00      0.00      0.00       1.0\\n        1373       0.00      0.00      0.00       1.0\\n        1374       0.00      0.00      0.00       1.0\\n        1375       0.00      0.00      0.00       1.0\\n        1376       0.00      0.00      0.00       1.0\\n        1377       0.00      0.00      0.00       1.0\\n        1378       0.00      0.00      0.00       1.0\\n        1379       0.00      0.00      0.00       1.0\\n        1380       0.00      0.00      0.00       1.0\\n        1381       0.00      0.00      0.00       1.0\\n        1382       0.00      0.00      0.00       1.0\\n        1383       0.00      0.00      0.00       1.0\\n        1384       0.00      0.00      0.00       2.0\\n        1385       0.00      0.00      0.00       1.0\\n        1386       0.00      0.00      0.00       1.0\\n        1387       0.00      0.00      0.00       1.0\\n        1388       0.00      0.00      0.00       1.0\\n        1389       0.00      0.00      0.00       1.0\\n        1390       0.00      0.00      0.00       1.0\\n        1391       0.00      0.00      0.00       1.0\\n        1392       0.00      0.00      0.00       1.0\\n        1393       0.00      0.00      0.00       1.0\\n        1394       0.00      0.00      0.00       1.0\\n        1395       0.00      0.00      0.00       1.0\\n        1396       0.00      0.00      0.00       1.0\\n        1397       0.00      0.00      0.00       1.0\\n        1398       0.00      0.00      0.00       1.0\\n        1399       0.00      0.00      0.00       2.0\\n        1400       0.00      0.00      0.00       1.0\\n        1401       0.00      0.00      0.00       1.0\\n        1402       0.00      0.00      0.00       1.0\\n        1403       0.00      0.00      0.00       2.0\\n        1404       0.00      0.00      0.00       1.0\\n        1405       0.00      0.00      0.00       1.0\\n        1406       0.00      0.00      0.00       1.0\\n        1407       0.00      0.00      0.00       1.0\\n        1408       0.00      0.00      0.00       1.0\\n        1409       0.00      0.00      0.00       1.0\\n        1410       0.00      0.00      0.00       1.0\\n        1411       0.00      0.00      0.00       1.0\\n        1412       0.00      0.00      0.00       1.0\\n        1413       0.00      0.00      0.00       1.0\\n        1414       0.00      0.00      0.00       1.0\\n        1415       0.00      0.00      0.00       1.0\\n        1416       0.00      0.00      0.00       1.0\\n        1417       0.00      0.00      0.00       1.0\\n        1418       0.00      0.00      0.00       1.0\\n        1419       0.00      0.00      0.00       1.0\\n        1420       0.00      0.00      0.00       1.0\\n        1421       0.00      0.00      0.00       1.0\\n        1422       0.00      0.00      0.00       1.0\\n        1423       0.00      0.00      0.00       1.0\\n        1424       0.00      0.00      0.00       1.0\\n        1425       0.00      0.00      0.00       1.0\\n        1426       0.00      0.00      0.00       1.0\\n        1427       0.00      0.00      0.00       1.0\\n        1428       0.00      0.00      0.00       1.0\\n        1429       0.00      0.00      0.00       1.0\\n        1430       0.00      0.00      0.00       1.0\\n        1431       0.00      0.00      0.00       1.0\\n        1432       0.00      0.00      0.00       1.0\\n        1433       0.00      0.00      0.00       1.0\\n        1434       0.00      0.00      0.00       1.0\\n        1435       0.00      0.00      0.00       1.0\\n        1436       0.00      0.00      0.00       1.0\\n        1437       0.00      0.00      0.00       1.0\\n        1438       0.00      0.00      0.00       1.0\\n        1439       0.00      0.00      0.00       2.0\\n        1440       0.00      0.00      0.00       1.0\\n        1441       0.00      0.00      0.00       1.0\\n        1442       0.00      0.00      0.00       2.0\\n        1443       0.00      0.00      0.00       1.0\\n        1444       0.00      0.00      0.00       1.0\\n        1445       0.00      0.00      0.00       1.0\\n        1446       0.00      0.00      0.00       1.0\\n        1447       0.00      0.00      0.00       1.0\\n        1448       0.00      0.00      0.00       1.0\\n        1449       0.00      0.00      0.00       1.0\\n        1450       0.00      0.00      0.00       1.0\\n        1451       0.00      0.00      0.00       1.0\\n        1452       0.00      0.00      0.00       1.0\\n        1453       0.00      0.00      0.00       1.0\\n        1454       0.00      0.00      0.00       1.0\\n        1455       0.00      0.00      0.00       1.0\\n        1456       0.00      0.00      0.00       1.0\\n        1457       0.00      0.00      0.00       1.0\\n        1458       0.00      0.00      0.00       1.0\\n        1459       0.00      0.00      0.00       1.0\\n        1460       0.00      0.00      0.00       1.0\\n        1461       0.00      0.00      0.00       1.0\\n        1462       0.00      0.00      0.00       1.0\\n        1463       0.00      0.00      0.00       1.0\\n        1464       0.00      0.00      0.00       1.0\\n        1465       0.00      0.00      0.00       1.0\\n        1466       0.00      0.00      0.00       1.0\\n        1467       0.00      0.00      0.00       1.0\\n        1468       0.00      0.00      0.00       1.0\\n        1469       0.00      0.00      0.00       1.0\\n        1470       0.00      0.00      0.00       1.0\\n        1471       0.00      0.00      0.00       1.0\\n        1472       0.00      0.00      0.00       1.0\\n        1473       0.00      0.00      0.00       1.0\\n        1474       0.00      0.00      0.00       1.0\\n        1475       0.00      0.00      0.00       1.0\\n        1476       0.00      0.00      0.00       1.0\\n        1477       0.00      0.00      0.00       1.0\\n        1478       0.00      0.00      0.00       1.0\\n        1479       0.00      0.00      0.00       1.0\\n        1480       0.00      0.00      0.00       1.0\\n        1481       0.00      0.00      0.00       1.0\\n        1482       0.00      0.00      0.00       1.0\\n        1483       0.00      0.00      0.00       1.0\\n        1484       0.00      0.00      0.00       1.0\\n        1485       0.00      0.00      0.00       1.0\\n        1486       0.00      0.00      0.00       1.0\\n        1487       0.00      0.00      0.00       1.0\\n        1488       0.00      0.00      0.00       1.0\\n        1489       0.00      0.00      0.00       1.0\\n        1490       0.00      0.00      0.00       1.0\\n        1491       0.00      0.00      0.00       1.0\\n        1492       0.00      0.00      0.00       1.0\\n        1493       0.00      0.00      0.00       1.0\\n        1494       0.00      0.00      0.00       1.0\\n        1495       0.00      0.00      0.00       1.0\\n        1496       0.00      0.00      0.00       1.0\\n        1497       0.00      0.00      0.00       1.0\\n        1498       0.00      0.00      0.00       1.0\\n        1499       0.00      0.00      0.00       1.0\\n        1500       0.00      0.00      0.00       1.0\\n        1501       0.00      0.00      0.00       1.0\\n        1502       0.00      0.00      0.00       1.0\\n        1503       0.00      0.00      0.00       2.0\\n        1504       0.00      0.00      0.00       1.0\\n        1505       0.00      0.00      0.00       1.0\\n        1506       0.00      0.00      0.00       1.0\\n        1507       0.00      0.00      0.00       1.0\\n        1508       0.00      0.00      0.00       1.0\\n        1509       0.00      0.00      0.00       1.0\\n        1510       0.00      0.00      0.00       1.0\\n        1511       0.00      0.00      0.00       1.0\\n        1512       0.00      0.00      0.00       1.0\\n        1513       0.00      0.00      0.00       1.0\\n        1514       0.00      0.00      0.00       1.0\\n        1515       0.00      0.00      0.00       1.0\\n        1516       0.00      0.00      0.00       1.0\\n        1517       0.00      0.00      0.00       1.0\\n        1518       0.00      0.00      0.00       1.0\\n        1519       0.00      0.00      0.00       1.0\\n        1520       0.00      0.00      0.00       1.0\\n        1521       0.00      0.00      0.00       1.0\\n        1522       0.00      0.00      0.00       1.0\\n        1523       0.00      0.00      0.00       1.0\\n        1524       0.00      0.00      0.00       1.0\\n        1525       0.00      0.00      0.00       1.0\\n        1526       0.00      0.00      0.00       1.0\\n        1527       0.00      0.00      0.00       1.0\\n        1528       0.00      0.00      0.00       1.0\\n        1529       0.00      0.00      0.00       1.0\\n        1530       0.00      0.00      0.00       1.0\\n        1531       0.00      0.00      0.00       1.0\\n        1532       0.00      0.00      0.00       1.0\\n        1533       0.00      0.00      0.00       1.0\\n        1534       0.00      0.00      0.00       1.0\\n        1535       0.00      0.00      0.00       1.0\\n        1536       0.00      0.00      0.00       1.0\\n        1537       0.00      0.00      0.00       1.0\\n        1538       0.00      0.00      0.00       1.0\\n        1539       0.00      0.00      0.00       1.0\\n        1540       0.00      0.00      0.00       1.0\\n        1541       0.00      0.00      0.00       1.0\\n        1542       0.00      0.00      0.00       1.0\\n        1543       0.00      0.00      0.00       1.0\\n        1544       0.00      0.00      0.00       1.0\\n        1545       0.00      0.00      0.00       1.0\\n        1546       0.00      0.00      0.00       1.0\\n        1547       0.00      0.00      0.00       1.0\\n        1548       0.00      0.00      0.00       1.0\\n        1549       0.00      0.00      0.00       1.0\\n        1550       0.00      0.00      0.00       1.0\\n        1551       0.00      0.00      0.00       1.0\\n        1552       0.00      0.00      0.00       1.0\\n        1553       0.00      0.00      0.00       1.0\\n        1554       0.00      0.00      0.00       1.0\\n        1555       0.00      0.00      0.00       1.0\\n        1556       0.00      0.00      0.00       1.0\\n        1557       0.00      0.00      0.00       1.0\\n        1558       0.00      0.00      0.00       1.0\\n        1559       0.00      0.00      0.00       1.0\\n        1560       0.00      0.00      0.00       1.0\\n        1561       0.00      0.00      0.00       1.0\\n        1562       0.00      0.00      0.00       1.0\\n        1563       0.00      0.00      0.00       1.0\\n        1564       0.00      0.00      0.00       1.0\\n        1565       0.00      0.00      0.00       1.0\\n        1566       0.00      0.00      0.00       1.0\\n        1567       0.00      0.00      0.00       1.0\\n        1568       0.00      0.00      0.00       1.0\\n        1569       0.00      0.00      0.00       1.0\\n        1570       0.00      0.00      0.00       1.0\\n        1571       0.00      0.00      0.00       1.0\\n        1572       0.00      0.00      0.00       1.0\\n        1573       0.00      0.00      0.00       1.0\\n        1574       0.00      0.00      0.00       1.0\\n        1575       0.00      0.00      0.00       1.0\\n        1576       0.00      0.00      0.00       1.0\\n        1577       0.00      0.00      0.00       1.0\\n        1578       0.00      0.00      0.00       1.0\\n        1579       0.00      0.00      0.00       1.0\\n        1580       0.00      0.00      0.00       1.0\\n        1581       0.00      0.00      0.00       1.0\\n        1582       0.00      0.00      0.00       1.0\\n        1583       0.00      0.00      0.00       1.0\\n        1584       0.00      0.00      0.00       1.0\\n        1591       0.00      0.00      0.00       0.0\\n        1596       0.00      0.00      0.00       0.0\\n        1600       0.00      0.00      0.00       0.0\\n        1615       0.00      0.00      0.00       0.0\\n        1618       0.00      0.00      0.00       0.0\\n        1619       0.00      0.00      0.00       0.0\\n        1621       0.00      0.00      0.00       0.0\\n        1622       0.00      0.00      0.00       0.0\\n        1623       0.00      0.00      0.00       0.0\\n        1624       0.00      0.00      0.00       0.0\\n        1626       0.00      0.00      0.00       0.0\\n        1631       0.00      0.00      0.00       0.0\\n        1632       0.00      0.00      0.00       0.0\\n        1635       0.00      0.00      0.00       0.0\\n        1636       0.00      0.00      0.00       0.0\\n        1637       0.00      0.00      0.00       0.0\\n        1641       0.00      0.00      0.00       0.0\\n        1645       0.00      0.00      0.00       0.0\\n        1651       0.00      0.00      0.00       0.0\\n        1655       0.00      0.00      0.00       0.0\\n        1660       0.00      0.00      0.00       0.0\\n        1661       0.00      0.00      0.00       0.0\\n        1663       0.00      0.00      0.00       0.0\\n        1666       0.00      0.00      0.00       0.0\\n        1667       0.00      0.00      0.00       0.0\\n        1670       0.00      0.00      0.00       0.0\\n        1674       0.00      0.00      0.00       0.0\\n        1682       0.00      0.00      0.00       0.0\\n        1687       0.00      0.00      0.00       0.0\\n        1690       0.00      0.00      0.00       0.0\\n        1692       0.00      0.00      0.00       0.0\\n        1694       0.00      0.00      0.00       0.0\\n        1695       0.00      0.00      0.00       0.0\\n        1697       0.00      0.00      0.00       0.0\\n        1702       0.00      0.00      0.00       0.0\\n        1726       0.00      0.00      0.00       0.0\\n        1728       0.00      0.00      0.00       0.0\\n        1732       0.00      0.00      0.00       0.0\\n        1734       0.00      0.00      0.00       0.0\\n        1736       0.00      0.00      0.00       0.0\\n        1741       0.00      0.00      0.00       0.0\\n        1744       0.00      0.00      0.00       0.0\\n        1747       0.00      0.00      0.00       0.0\\n        1749       0.00      0.00      0.00       0.0\\n        1751       0.00      0.00      0.00       0.0\\n        1754       0.00      0.00      0.00       0.0\\n        1757       0.00      0.00      0.00       0.0\\n        1763       0.00      0.00      0.00       0.0\\n        1765       0.00      0.00      0.00       0.0\\n        1768       0.00      0.00      0.00       0.0\\n        1770       0.00      0.00      0.00       0.0\\n        1772       0.00      0.00      0.00       0.0\\n        1775       0.00      0.00      0.00       0.0\\n        1784       0.00      0.00      0.00       0.0\\n        1790       0.00      0.00      0.00       0.0\\n        1792       0.00      0.00      0.00       0.0\\n        1797       0.00      0.00      0.00       0.0\\n        1812       0.00      0.00      0.00       0.0\\n        1816       0.00      0.00      0.00       0.0\\n        1817       0.00      0.00      0.00       0.0\\n        1819       0.00      0.00      0.00       0.0\\n        1820       0.00      0.00      0.00       0.0\\n        1828       0.00      0.00      0.00       0.0\\n        1831       0.00      0.00      0.00       0.0\\n        1833       0.00      0.00      0.00       0.0\\n        1837       0.00      0.00      0.00       0.0\\n        1840       0.00      0.00      0.00       0.0\\n        1856       0.00      0.00      0.00       0.0\\n        1857       0.00      0.00      0.00       0.0\\n        1866       0.00      0.00      0.00       0.0\\n        1871       0.00      0.00      0.00       0.0\\n        1874       0.00      0.00      0.00       0.0\\n        1884       0.00      0.00      0.00       0.0\\n        1891       0.00      0.00      0.00       0.0\\n        1898       0.00      0.00      0.00       0.0\\n        1900       0.00      0.00      0.00       0.0\\n        1901       0.00      0.00      0.00       0.0\\n        1911       0.00      0.00      0.00       0.0\\n        1912       0.00      0.00      0.00       0.0\\n        1919       0.00      0.00      0.00       0.0\\n        1920       0.00      0.00      0.00       0.0\\n        1921       0.00      0.00      0.00       0.0\\n        1922       0.00      0.00      0.00       0.0\\n        1923       0.00      0.00      0.00       0.0\\n        1925       0.00      0.00      0.00       0.0\\n        1929       0.00      0.00      0.00       0.0\\n        1930       0.00      0.00      0.00       0.0\\n        1933       0.00      0.00      0.00       0.0\\n        1942       0.00      0.00      0.00       0.0\\n        1944       0.00      0.00      0.00       0.0\\n        1954       0.00      0.00      0.00       0.0\\n        1955       0.00      0.00      0.00       0.0\\n        1960       0.00      0.00      0.00       0.0\\n        1961       0.00      0.00      0.00       0.0\\n        1965       0.00      0.00      0.00       0.0\\n        1968       0.00      0.00      0.00       0.0\\n        1970       0.00      0.00      0.00       0.0\\n        1972       0.00      0.00      0.00       0.0\\n        1976       0.00      0.00      0.00       0.0\\n        1977       0.00      0.00      0.00       0.0\\n        1985       0.00      0.00      0.00       0.0\\n        1987       0.00      0.00      0.00       0.0\\n        1989       0.00      0.00      0.00       0.0\\n        1998       0.00      0.00      0.00       0.0\\n        2003       0.00      0.00      0.00       0.0\\n        2006       0.00      0.00      0.00       0.0\\n        2009       0.00      0.00      0.00       0.0\\n        2016       0.00      0.00      0.00       0.0\\n        2020       0.00      0.00      0.00       0.0\\n        2026       0.00      0.00      0.00       0.0\\n        2031       0.00      0.00      0.00       0.0\\n        2032       0.00      0.00      0.00       0.0\\n        2040       0.00      0.00      0.00       0.0\\n        2041       0.00      0.00      0.00       0.0\\n        2043       0.00      0.00      0.00       0.0\\n        2059       0.00      0.00      0.00       0.0\\n        2062       0.00      0.00      0.00       0.0\\n        2072       0.00      0.00      0.00       0.0\\n        2076       0.00      0.00      0.00       0.0\\n        2089       0.00      0.00      0.00       0.0\\n        2099       0.00      0.00      0.00       0.0\\n        2113       0.00      0.00      0.00       0.0\\n        2116       0.00      0.00      0.00       0.0\\n        2127       0.00      0.00      0.00       0.0\\n        2129       0.00      0.00      0.00       0.0\\n        2134       0.00      0.00      0.00       0.0\\n        2136       0.00      0.00      0.00       0.0\\n        2137       0.00      0.00      0.00       0.0\\n        2153       0.00      0.00      0.00       0.0\\n        2159       0.00      0.00      0.00       0.0\\n        2160       0.00      0.00      0.00       0.0\\n        2172       0.00      0.00      0.00       0.0\\n        2177       0.00      0.00      0.00       0.0\\n        2180       0.00      0.00      0.00       0.0\\n        2182       0.00      0.00      0.00       0.0\\n        2189       0.00      0.00      0.00       0.0\\n        2191       0.00      0.00      0.00       0.0\\n        2193       0.00      0.00      0.00       0.0\\n        2194       0.00      0.00      0.00       0.0\\n        2195       0.00      0.00      0.00       0.0\\n        2196       0.00      0.00      0.00       0.0\\n        2197       0.00      0.00      0.00       0.0\\n        2201       0.00      0.00      0.00       0.0\\n        2212       0.00      0.00      0.00       0.0\\n        2213       0.00      0.00      0.00       0.0\\n        2215       0.00      0.00      0.00       0.0\\n        2228       0.00      0.00      0.00       0.0\\n        2240       0.00      0.00      0.00       0.0\\n        2244       0.00      0.00      0.00       0.0\\n        2249       0.00      0.00      0.00       0.0\\n        2255       0.00      0.00      0.00       0.0\\n        2259       0.00      0.00      0.00       0.0\\n        2275       0.00      0.00      0.00       0.0\\n        2296       0.00      0.00      0.00       0.0\\n        2301       0.00      0.00      0.00       0.0\\n        2306       0.00      0.00      0.00       0.0\\n        2308       0.00      0.00      0.00       0.0\\n        2311       0.00      0.00      0.00       0.0\\n        2314       0.00      0.00      0.00       0.0\\n        2321       0.00      0.00      0.00       0.0\\n        2334       0.00      0.00      0.00       0.0\\n        2339       0.00      0.00      0.00       0.0\\n        2350       0.00      0.00      0.00       0.0\\n        2358       0.00      0.00      0.00       0.0\\n        2361       0.00      0.00      0.00       0.0\\n        2362       0.00      0.00      0.00       0.0\\n        2366       0.00      0.00      0.00       0.0\\n        2370       0.00      0.00      0.00       0.0\\n        2379       0.00      0.00      0.00       0.0\\n        2381       0.00      0.00      0.00       0.0\\n        2389       0.00      0.00      0.00       0.0\\n        2394       0.00      0.00      0.00       0.0\\n        2397       0.00      0.00      0.00       0.0\\n        2403       0.00      0.00      0.00       0.0\\n        2418       0.00      0.00      0.00       0.0\\n        2423       0.00      0.00      0.00       0.0\\n        2444       0.00      0.00      0.00       0.0\\n        2450       0.00      0.00      0.00       0.0\\n        2453       0.00      0.00      0.00       0.0\\n        2459       0.00      0.00      0.00       0.0\\n        2477       0.00      0.00      0.00       0.0\\n        2478       0.00      0.00      0.00       0.0\\n        2482       0.00      0.00      0.00       0.0\\n        2501       0.00      0.00      0.00       0.0\\n        2514       0.00      0.00      0.00       0.0\\n        2527       0.00      0.00      0.00       0.0\\n        2531       0.00      0.00      0.00       0.0\\n        2543       0.00      0.00      0.00       0.0\\n        2552       0.00      0.00      0.00       0.0\\n        2564       0.00      0.00      0.00       0.0\\n        2572       0.00      0.00      0.00       0.0\\n        2601       0.00      0.00      0.00       0.0\\n        2609       0.00      0.00      0.00       0.0\\n        2631       0.00      0.00      0.00       0.0\\n        2642       0.00      0.00      0.00       0.0\\n        2652       0.00      0.00      0.00       0.0\\n        2653       0.00      0.00      0.00       0.0\\n        2658       0.00      0.00      0.00       0.0\\n        2662       0.00      0.00      0.00       0.0\\n        2665       0.00      0.00      0.00       0.0\\n        2686       0.00      0.00      0.00       0.0\\n        2714       0.00      0.00      0.00       0.0\\n        2715       0.00      0.00      0.00       0.0\\n        2722       0.00      0.00      0.00       0.0\\n        2752       0.00      0.00      0.00       0.0\\n        2753       0.00      0.00      0.00       0.0\\n        2774       0.00      0.00      0.00       0.0\\n        2785       0.00      0.00      0.00       0.0\\n        2806       0.00      0.00      0.00       0.0\\n        2810       0.00      0.00      0.00       0.0\\n        2818       0.00      0.00      0.00       0.0\\n        2858       0.00      0.00      0.00       0.0\\n        2859       0.00      0.00      0.00       0.0\\n        2870       0.00      0.00      0.00       0.0\\n        2929       0.00      0.00      0.00       0.0\\n        2930       0.00      0.00      0.00       0.0\\n        2980       0.00      0.00      0.00       0.0\\n        3022       0.00      0.00      0.00       0.0\\n        3023       0.00      0.00      0.00       0.0\\n        3203       0.00      0.00      0.00       0.0\\n        3479       0.00      0.00      0.00       0.0\\n\\n    accuracy                           0.00    1763.0\\n   macro avg       0.00      0.00      0.00    1763.0\\nweighted avg       0.00      0.00      0.00    1763.0\\n'"
            ]
          },
          "metadata": {
            "tags": []
          },
          "execution_count": 25
        }
      ]
    },
    {
      "cell_type": "markdown",
      "metadata": {
        "id": "sSrkztiMg4iN",
        "colab_type": "text"
      },
      "source": [
        "\n",
        "## SVM\n"
      ]
    },
    {
      "cell_type": "code",
      "metadata": {
        "id": "-URUubmsQHrP",
        "colab_type": "code",
        "colab": {}
      },
      "source": [
        "import seaborn as sns; sns.set()\n",
        "from sklearn.decomposition import PCA\n",
        "#from sklearn.datasets import fetch_lfw_people\n",
        "#faces = fetch_lfw_people(min_faces_per_person=60)\n",
        "from sklearn.decomposition import PCA as RandomizedPCA\n",
        "pca = RandomizedPCA(450)\n",
        "pca.fit(dev_images_raw)\n",
        "dev_components = pca.transform(dev_images_raw)\n",
        "train_components = RandomizedPCA(450).fit(train_images).transform(train_images)\n",
        "lab_enc = preprocessing.OrdinalEncoder()\n",
        "encoded = lab_enc.fit_transform(np.round(train_left_eye_x,0).reshape(-1, 1) )\n",
        "lab_enc = preprocessing.OrdinalEncoder(categories=lab_enc.categories_)\n",
        "dev_encoded = lab_enc.fit_transform(np.round(dev_left_eye_x,0).reshape(-1, 1) )"
      ],
      "execution_count": 0,
      "outputs": []
    },
    {
      "cell_type": "code",
      "metadata": {
        "id": "63fjE_FXkxCx",
        "colab_type": "code",
        "colab": {
          "base_uri": "https://localhost:8080/",
          "height": 35
        },
        "outputId": "39669625-286b-4c5d-9c03-47a68df075ec"
      },
      "source": [
        "from sklearn import linear_model \n",
        "sgd=linear_model.SGDRegressor(penalty='l1')\n",
        "sgd_model=sgd.fit(train_components, train_left_eye_x)\n",
        "sgd_pred=sgd_model.predict(dev_components)\n",
        "print(\"The coefficient of determination R^2 of the prediction. \", sgd_model.score(dev_components,dev_left_eye_x))"
      ],
      "execution_count": 34,
      "outputs": [
        {
          "output_type": "stream",
          "text": [
            "The coefficient of determination R^2 of the prediction.  -0.495389373694267\n"
          ],
          "name": "stdout"
        }
      ]
    },
    {
      "cell_type": "code",
      "metadata": {
        "id": "75soHc81SQ5I",
        "colab_type": "code",
        "colab": {}
      },
      "source": [
        "'''''class sklearn.linear_model.SGDRegressor(loss=’squared_loss’, penalty=’l2’, \n",
        "                                        alpha=0.0001, l1_ratio=0.15, fit_intercept=True, \n",
        "                                        max_iter=1000, tol=0.001, shuffle=True, verbose=0,\n",
        "                                        epsilon=0.1, random_state=None, learning_rate=’invscaling’, \n",
        "                                        eta0=0.01, power_t=0.25, early_stopping=False, \n",
        "                                        validation_fraction=0.1, n_iter_no_change=5, warm_start=False,\n",
        "                                        average=False)\n",
        "'''\n",
        "from sklearn import linear_model \n",
        "sgd=linear_model.SGDRegressor(penalty='l1')\n",
        "sgd_model=sgd.fit(train_images_raw, train_left_eye_x)\n",
        "sgd_pred=reg.predict(train_images)\n",
        "print(\"The coefficient of determination R^2 of the prediction. \", sgd_model.score(dev_images_raw, dev_left_eye_x))"
      ],
      "execution_count": 0,
      "outputs": []
    },
    {
      "cell_type": "code",
      "metadata": {
        "id": "S9v63bPNncsT",
        "colab_type": "code",
        "colab": {
          "base_uri": "https://localhost:8080/",
          "height": 92
        },
        "outputId": "150e07ba-a43b-4cc9-9ff6-a0e8030fc57b"
      },
      "source": [
        "from sklearn import svm\n",
        "'''class sklearn.svm.SVR(kernel='rbf', degree=3, gamma='auto_deprecated', coef0=0.0,\n",
        "                      tol=0.001, C=1.0, epsilon=0.1, shrinking=True, cache_size=200, \n",
        "                      verbose=False, max_iter=-1)\n",
        "                      '''\n",
        "'''\"Epsilon-Support Vector Regression.\n",
        "\n",
        "The free parameters in the model are C and epsilon.\n",
        "The implementation is based on libsvm. The fit time complexity is more than quadratic\n",
        "with the number of samples which makes it hard to scale to datasets with more than a \n",
        "couple of 10000 samples. For large datasets consider using sklearn.linear_model.LinearSVR \n",
        "or sklearn.linear_model.SGDRegressor instead, possibly after a \n",
        "sklearn.kernel_approximation.Nystroem transformer.\n",
        "\"\n",
        "svr'''\n",
        "svr=svm.SVR(kernel='rbf',tol=0.01,C=64)\n",
        "svr_model=svr.fit(train_images, train_left_eye_x)\n",
        "svr_pred=svr_model.predict(dev_images_raw)\n",
        "print(\"The coefficient of determination R^2 of the prediction. \", svr_model.score(dev_images_raw,dev_left_eye_x))"
      ],
      "execution_count": 35,
      "outputs": [
        {
          "output_type": "stream",
          "text": [
            "/usr/local/lib/python3.6/dist-packages/sklearn/svm/base.py:193: FutureWarning: The default value of gamma will change from 'auto' to 'scale' in version 0.22 to account better for unscaled features. Set gamma explicitly to 'auto' or 'scale' to avoid this warning.\n",
            "  \"avoid this warning.\", FutureWarning)\n"
          ],
          "name": "stderr"
        },
        {
          "output_type": "stream",
          "text": [
            "The coefficient of determination R^2 of the prediction.  0.27543128070347334\n"
          ],
          "name": "stdout"
        }
      ]
    },
    {
      "cell_type": "code",
      "metadata": {
        "id": "ACemwg5knsie",
        "colab_type": "code",
        "colab": {
          "base_uri": "https://localhost:8080/",
          "height": 54
        },
        "outputId": "cde5ceea-330d-49c7-d470-d2eb24f88911"
      },
      "source": [
        "'''C= {'C': [ 0.0001, 0.001, 0.01, 0.1, 0.5, 1.0, 2.0, 4.0, 8.0, 16.0, 32, 64, 128, 256]}\n",
        "gridSearch = GridSearchCV(svr, param_grid=C, cv=3, iid=True)\n",
        "gridSearchfit=gridSearch.fit(train_components, train_left_eye_x)\n",
        "print(\"Naive bayes best score and best param\",gridSearchfit.best_score_,gridSearchfit.best_params_) '''\n",
        "print(\"Did not run again previous restults were: \")\n",
        "print(\"Naive bayes best score and best param 0.32848829763984433 {'C': 64}\")"
      ],
      "execution_count": 36,
      "outputs": [
        {
          "output_type": "stream",
          "text": [
            "Did not run again previous restults were: \n",
            "Naive bayes best score and best param 0.32848829763984433 {'C': 64}\n"
          ],
          "name": "stdout"
        }
      ]
    },
    {
      "cell_type": "code",
      "metadata": {
        "id": "EUkc6w4wnc23",
        "colab_type": "code",
        "colab": {
          "base_uri": "https://localhost:8080/",
          "height": 92
        },
        "outputId": "cd43c941-d7e1-41e7-a416-2e06fe0b8eaa"
      },
      "source": [
        "svr=svm.SVR(kernel='rbf',C=64)\n",
        "svr_model=svr.fit(train_components, train_left_eye_x)\n",
        "svr_pred=svr_model.predict(dev_components)\n",
        "print(\"The coefficient of determination R^2 of the prediction. \", svr_model.score(dev_components,dev_left_eye_x))"
      ],
      "execution_count": 37,
      "outputs": [
        {
          "output_type": "stream",
          "text": [
            "/usr/local/lib/python3.6/dist-packages/sklearn/svm/base.py:193: FutureWarning: The default value of gamma will change from 'auto' to 'scale' in version 0.22 to account better for unscaled features. Set gamma explicitly to 'auto' or 'scale' to avoid this warning.\n",
            "  \"avoid this warning.\", FutureWarning)\n"
          ],
          "name": "stderr"
        },
        {
          "output_type": "stream",
          "text": [
            "The coefficient of determination R^2 of the prediction.  -0.37660852536067635\n"
          ],
          "name": "stdout"
        }
      ]
    },
    {
      "cell_type": "markdown",
      "metadata": {
        "id": "k1F4QOnQnMPc",
        "colab_type": "text"
      },
      "source": [
        "## Ridge"
      ]
    },
    {
      "cell_type": "code",
      "metadata": {
        "id": "XuOTB62Pk99V",
        "colab_type": "code",
        "colab": {
          "base_uri": "https://localhost:8080/",
          "height": 135
        },
        "outputId": "bde14cd1-540b-49b6-acfd-c13f58ca8cf4"
      },
      "source": [
        ""
      ],
      "execution_count": 38,
      "outputs": [
        {
          "output_type": "error",
          "ename": "SyntaxError",
          "evalue": "ignored",
          "traceback": [
            "\u001b[0;36m  File \u001b[0;32m\"<ipython-input-38-bcd8c78cfe4b>\"\u001b[0;36m, line \u001b[0;32m1\u001b[0m\n\u001b[0;31m    ''class sklearn.linear_model.SGDRegressor(loss=’squared_loss’, penalty=’l2’,\u001b[0m\n\u001b[0m          ^\u001b[0m\n\u001b[0;31mSyntaxError\u001b[0m\u001b[0;31m:\u001b[0m invalid syntax\n"
          ]
        }
      ]
    },
    {
      "cell_type": "code",
      "metadata": {
        "id": "B5LjihIxm7EU",
        "colab_type": "code",
        "colab": {
          "base_uri": "https://localhost:8080/",
          "height": 92
        },
        "outputId": "29a1cbf6-9db2-46e4-b6c5-431766cec3db"
      },
      "source": [
        "dev_eyes=dev[['left_eye_center_y','left_eye_center_x','right_eye_center_y','right_eye_center_x']].values\n",
        "train_eyes=train[['left_eye_center_y','left_eye_center_x','right_eye_center_y','right_eye_center_x']].values\n",
        "\n",
        "ridge=linear_model.Ridge()\n",
        "ridge_model=ridge.fit(train_components, train_eyes)\n",
        "ridge_pred=ridge_model.predict(dev_components)\n",
        "print(\"The coefficient of determination R^2 of the prediction. \", ridge_model.score(dev_components,dev_eyes))"
      ],
      "execution_count": 40,
      "outputs": [
        {
          "output_type": "stream",
          "text": [
            "The coefficient of determination R^2 of the prediction.  -0.564690667274357\n"
          ],
          "name": "stdout"
        },
        {
          "output_type": "stream",
          "text": [
            "/usr/local/lib/python3.6/dist-packages/sklearn/base.py:420: FutureWarning: The default value of multioutput (not exposed in score method) will change from 'variance_weighted' to 'uniform_average' in 0.23 to keep consistent with 'metrics.r2_score'. To specify the default value manually and avoid the warning, please either call 'metrics.r2_score' directly or make a custom scorer with 'metrics.make_scorer' (the built-in scorer 'r2' uses multioutput='uniform_average').\n",
            "  \"multioutput='uniform_average').\", FutureWarning)\n"
          ],
          "name": "stderr"
        }
      ]
    },
    {
      "cell_type": "code",
      "metadata": {
        "id": "YfOCd9ozkMvw",
        "colab_type": "code",
        "colab": {
          "base_uri": "https://localhost:8080/",
          "height": 110
        },
        "outputId": "d2f55d4d-ff1a-44a9-b567-4d2dbd7fe054"
      },
      "source": [
        "pca = RandomizedPCA(1000)\n",
        "pca.fit(dev_images_raw)\n",
        "dev_components = pca.transform(dev_images_raw)\n",
        "train_components = RandomizedPCA(1000).fit(train_images).transform(train_images)\n",
        "\n",
        "\n",
        "dev_left_eye=dev[['left_eye_center_y','left_eye_center_x']].values\n",
        "train_left_eye=train[['left_eye_center_y','left_eye_center_x']].values\n",
        "print(dev_left_eye.shape)\n",
        "ridge=linear_model.Ridge()\n",
        "ridge_model=ridge.fit(train_components, train_left_eye)\n",
        "ridge_pred=ridge_model.predict(dev_components)\n",
        "print(\"The coefficient of determination R^2 of the prediction. \", ridge_model.score(dev_components,dev_left_eye))"
      ],
      "execution_count": 41,
      "outputs": [
        {
          "output_type": "stream",
          "text": [
            "(1763, 2)\n",
            "The coefficient of determination R^2 of the prediction.  -0.6645298545382882\n"
          ],
          "name": "stdout"
        },
        {
          "output_type": "stream",
          "text": [
            "/usr/local/lib/python3.6/dist-packages/sklearn/base.py:420: FutureWarning: The default value of multioutput (not exposed in score method) will change from 'variance_weighted' to 'uniform_average' in 0.23 to keep consistent with 'metrics.r2_score'. To specify the default value manually and avoid the warning, please either call 'metrics.r2_score' directly or make a custom scorer with 'metrics.make_scorer' (the built-in scorer 'r2' uses multioutput='uniform_average').\n",
            "  \"multioutput='uniform_average').\", FutureWarning)\n"
          ],
          "name": "stderr"
        }
      ]
    },
    {
      "cell_type": "markdown",
      "metadata": {
        "id": "mGedFAFOkQU-",
        "colab_type": "text"
      },
      "source": [
        "## Neural Net\n"
      ]
    },
    {
      "cell_type": "code",
      "metadata": {
        "id": "z6IckzAJn4-f",
        "colab_type": "code",
        "colab": {
          "base_uri": "https://localhost:8080/",
          "height": 563
        },
        "outputId": "30952992-5fda-4fd9-e0b7-31bd45507000"
      },
      "source": [
        "import keras\n",
        "import cv2\n",
        "from PIL import Image\n",
        "!wget -N https://raw.githubusercontent.com/opencv/opencv/master/data/haarcascades/haarcascade_frontalface_default.xml\n",
        "!wget -N https://github.com/opencv/opencv/raw/master/data/haarcascades/haarcascade_eye.xml\n",
        "face_cascade=cv2.CascadeClassifier(\"haarcascade_frontalface_default.xml\")\n",
        "eye_cascade = cv2.CascadeClassifier('haarcascade_eye.xml')"
      ],
      "execution_count": 42,
      "outputs": [
        {
          "output_type": "stream",
          "text": [
            "Using TensorFlow backend.\n"
          ],
          "name": "stderr"
        },
        {
          "output_type": "stream",
          "text": [
            "--2019-07-26 22:07:31--  https://raw.githubusercontent.com/opencv/opencv/master/data/haarcascades/haarcascade_frontalface_default.xml\n",
            "Resolving raw.githubusercontent.com (raw.githubusercontent.com)... 151.101.0.133, 151.101.64.133, 151.101.128.133, ...\n",
            "Connecting to raw.githubusercontent.com (raw.githubusercontent.com)|151.101.0.133|:443... connected.\n",
            "HTTP request sent, awaiting response... 200 OK\n",
            "Length: 930127 (908K) [text/plain]\n",
            "Saving to: ‘haarcascade_frontalface_default.xml’\n",
            "\n",
            "\r          haarcasca   0%[                    ]       0  --.-KB/s               \rhaarcascade_frontal 100%[===================>] 908.33K  --.-KB/s    in 0.07s   \n",
            "\n",
            "Last-modified header missing -- time-stamps turned off.\n",
            "2019-07-26 22:07:31 (11.9 MB/s) - ‘haarcascade_frontalface_default.xml’ saved [930127/930127]\n",
            "\n",
            "--2019-07-26 22:07:32--  https://github.com/opencv/opencv/raw/master/data/haarcascades/haarcascade_eye.xml\n",
            "Resolving github.com (github.com)... 140.82.113.4\n",
            "Connecting to github.com (github.com)|140.82.113.4|:443... connected.\n",
            "HTTP request sent, awaiting response... 302 Found\n",
            "Location: https://raw.githubusercontent.com/opencv/opencv/master/data/haarcascades/haarcascade_eye.xml [following]\n",
            "--2019-07-26 22:07:32--  https://raw.githubusercontent.com/opencv/opencv/master/data/haarcascades/haarcascade_eye.xml\n",
            "Resolving raw.githubusercontent.com (raw.githubusercontent.com)... 151.101.0.133, 151.101.64.133, 151.101.128.133, ...\n",
            "Connecting to raw.githubusercontent.com (raw.githubusercontent.com)|151.101.0.133|:443... connected.\n",
            "HTTP request sent, awaiting response... 200 OK\n",
            "Length: 341406 (333K) [text/plain]\n",
            "Saving to: ‘haarcascade_eye.xml’\n",
            "\n",
            "haarcascade_eye.xml 100%[===================>] 333.40K  --.-KB/s    in 0.05s   \n",
            "\n",
            "Last-modified header missing -- time-stamps turned off.\n",
            "2019-07-26 22:07:33 (6.71 MB/s) - ‘haarcascade_eye.xml’ saved [341406/341406]\n",
            "\n"
          ],
          "name": "stdout"
        }
      ]
    },
    {
      "cell_type": "code",
      "metadata": {
        "id": "n7PLklX3kaSE",
        "colab_type": "code",
        "outputId": "951e8e6a-0718-4883-8e7a-91d46106b29b",
        "colab": {
          "base_uri": "https://localhost:8080/",
          "height": 248
        }
      },
      "source": [
        "formatted = (np.float32(train_images[10].reshape(96,96)) * 255).astype('uint8')\n",
        "img = Image.fromarray(formatted)\n",
        "bounding_boxes = face_cascade.detectMultiScale(formatted, 1.25, 6)\n",
        "for (x,y,w,h) in bounding_boxes:\n",
        "  cv2.rectangle(formatted,(x,y),(x+w,y+h),(255,0,0),2)\n",
        "  roi_gray = formatted[y:y+h, x:x+w]\n",
        "  #oi_color = img[y:y+h, x:x+w]\n",
        "  eyes = eye_cascade.detectMultiScale(roi_gray)\n",
        "  for (ex,ey,ew,eh) in eyes:\n",
        "    cv2.rectangle(roi_gray,(ex,ey),(ex+ew,ey+eh),(0,255,0),2)\n",
        "ax = plt.subplot(1,1,1)\n",
        "ax.imshow(roi_gray,cmap='gray')\n",
        "ax.get_xaxis().set_visible(False)\n",
        "ax.get_yaxis().set_visible(False)"
      ],
      "execution_count": 43,
      "outputs": [
        {
          "output_type": "display_data",
          "data": {
            "image/png": "[encoded data removed]",
            "text/plain": [
              "<Figure size 432x288 with 1 Axes>"
            ]
          },
          "metadata": {
            "tags": []
          }
        }
      ]
    },
    {
      "cell_type": "code",
      "metadata": {
        "id": "qC_8oKBymGTW",
        "colab_type": "code",
        "colab": {}
      },
      "source": [
        "dev_formatted = (np.float32(dev_images_raw.reshape(1763,96,96)) * 255).astype('uint8')\n",
        "bounded_images=[]\n",
        "eyes_len=[]\n",
        "for formatted in dev_formatted:\n",
        "  bounding_boxes = face_cascade.detectMultiScale(formatted, 1.25, 6)\n",
        "  for (x,y,w,h) in bounding_boxes:\n",
        "    cv2.rectangle(formatted,(x,y),(x+w,y+h),(255,0,0),2)\n",
        "    roi_gray = formatted[y:y+h, x:x+w]\n",
        "    #oi_color = img[y:y+h, x:x+w]\n",
        "    eyes = eye_cascade.detectMultiScale(roi_gray)\n",
        "    eyes_len.append(len(eyes))\n",
        "    for (ex,ey,ew,eh) in eyes:\n",
        "      cv2.rectangle(roi_gray,(ex,ey),(ex+ew,ey+eh),(0,255,0),2)\n",
        "  bounded_images.append(formatted)"
      ],
      "execution_count": 0,
      "outputs": []
    },
    {
      "cell_type": "code",
      "metadata": {
        "id": "hR_hVIUrmJxm",
        "colab_type": "code",
        "colab": {
          "base_uri": "https://localhost:8080/",
          "height": 107
        },
        "outputId": "96dafd9e-5043-4275-97c1-73ae1fd7a17d"
      },
      "source": [
        "def plot_example(num_examples):\n",
        "  \n",
        "  for i in range(num_examples):\n",
        "    ax = plt.subplot(1,num_examples,i+1)\n",
        "    ax.imshow(bounded_images[i*5],cmap='gray')\n",
        "    ax.get_xaxis().set_visible(False)\n",
        "    ax.get_yaxis().set_visible(False)\n",
        "\n",
        "plot_example(5)\n",
        "np.sum(eyes_len)/dev_images_raw.shape[0]"
      ],
      "execution_count": 45,
      "outputs": [
        {
          "output_type": "execute_result",
          "data": {
            "text/plain": [
              "0.8706749858196257"
            ]
          },
          "metadata": {
            "tags": []
          },
          "execution_count": 45
        },
        {
          "output_type": "display_data",
          "data": {
            "image/png": "[encoded data removed]",
            "text/plain": [
              "<Figure size 432x288 with 5 Axes>"
            ]
          },
          "metadata": {
            "tags": []
          }
        }
      ]
    },
    {
      "cell_type": "code",
      "metadata": {
        "id": "q7WZL9IgkbNm",
        "colab_type": "code",
        "colab": {}
      },
      "source": [
        "\n"
      ],
      "execution_count": 0,
      "outputs": []
    },
    {
      "cell_type": "code",
      "metadata": {
        "id": "mNBy72FSkbgi",
        "colab_type": "code",
        "colab": {}
      },
      "source": [
        ""
      ],
      "execution_count": 0,
      "outputs": []
    },
    {
      "cell_type": "markdown",
      "metadata": {
        "id": "o_tmFHutvKkf",
        "colab_type": "text"
      },
      "source": [
        "##Logistic Regression \n",
        "Using L1 penalty and C = 100 for a baseline"
      ]
    },
    {
      "cell_type": "code",
      "metadata": {
        "id": "BC3FtbLcszV8",
        "colab_type": "code",
        "outputId": "cf088bde-76fe-413a-a8c9-cddc4848c01b",
        "colab": {
          "base_uri": "https://localhost:8080/",
          "height": 291
        }
      },
      "source": [
        "\n",
        "pca = RandomizedPCA(450)\n",
        "pca.fit(dev_images_raw)\n",
        "plt.plot(np.cumsum(pca.explained_variance_ratio_))\n",
        "plt.xlabel('number of components')\n",
        "plt.ylabel('cumulative explained variance');\n",
        "# Compute the components and projected faces\n",
        "#pca = RandomizedPCA(150).fit(faces.data)\n",
        "\n",
        "#projected = pca.inverse_transform(components)"
      ],
      "execution_count": 0,
      "outputs": [
        {
          "output_type": "display_data",
          "data": {
            "image/png": "[encoded data removed]",
            "text/plain": [
              "<Figure size 432x288 with 1 Axes>"
            ]
          },
          "metadata": {
            "tags": []
          }
        }
      ]
    },
    {
      "cell_type": "code",
      "metadata": {
        "id": "T8CTybag1E78",
        "colab_type": "code",
        "colab": {}
      },
      "source": [
        "pca = RandomizedPCA(450)\n",
        "pca.fit(dev_images_raw)\n",
        "dev_components = pca.transform(dev_images_raw)\n",
        "train_components = RandomizedPCA(450).fit(train_images).transform(train_images)\n"
      ],
      "execution_count": 0,
      "outputs": []
    },
    {
      "cell_type": "code",
      "metadata": {
        "id": "YlO0gdHUkvWq",
        "colab_type": "code",
        "outputId": "4a4b2adf-e746-45d8-aecc-00276e7eb3f7",
        "colab": {
          "base_uri": "https://localhost:8080/",
          "height": 35
        }
      },
      "source": [
        "print (\"logistic regression\")\n",
        "logisticModel=LogisticRegression(solver='saga',multi_class='auto', penalty=\"l1\", C=50)\n",
        "reg = logisticModel.fit(dev_components, dev_encoded)\n",
        "logistic_pred=reg.predict(train_components)\n"
      ],
      "execution_count": 0,
      "outputs": [
        {
          "output_type": "stream",
          "text": [
            "logistic regression\n"
          ],
          "name": "stdout"
        }
      ]
    },
    {
      "cell_type": "code",
      "metadata": {
        "id": "1unfRnwShm53",
        "colab_type": "code",
        "colab": {}
      },
      "source": [
        "from sklearn.metrics import classification_report\n",
        "output2 = classification_report(encoded, logistic_pred, output_dict=True)\n",
        "print( \"Logistic Regression f1-score \",output2.get('macro avg').get('f1-score'))\n",
        "print(min(encoded), np.argmin(encoded),max(encoded))\n",
        "#train_images()\n",
        "\n",
        "ax = plt.subplot(1,1,1)\n",
        "ax.imshow(train_images[np.argmin(encoded)].reshape(96,96),cmap='gray')\n",
        "ax.get_xaxis().set_visible(False)\n",
        "ax.get_yaxis().set_visible(False)"
      ],
      "execution_count": 0,
      "outputs": []
    },
    {
      "cell_type": "code",
      "metadata": {
        "id": "8y1dJuLE8CBM",
        "colab_type": "code",
        "colab": {}
      },
      "source": [
        "from sklearn.metrics import confusion_matrix\n",
        "#print(classification_report(encoded, logistic_pred, output_dict=False))\n",
        "confusion_matrix(encoded, logistic_pred)"
      ],
      "execution_count": 0,
      "outputs": []
    },
    {
      "cell_type": "code",
      "metadata": {
        "id": "hhOhNut6-KSQ",
        "colab_type": "code",
        "colab": {}
      },
      "source": [
        "import seaborn as sns; sns.set()\n",
        "\n",
        "train_df.dtypes"
      ],
      "execution_count": 0,
      "outputs": []
    },
    {
      "cell_type": "code",
      "metadata": {
        "id": "3lO5kQ-fM-hS",
        "colab_type": "code",
        "colab": {}
      },
      "source": [
        "feature = 'left_eye_center_x'\n",
        "\n",
        "y = np.array(train[feature].values)\n",
        "X = train.Image.values\n"
      ],
      "execution_count": 0,
      "outputs": []
    },
    {
      "cell_type": "code",
      "metadata": {
        "id": "WgjLLHXD9W1y",
        "colab_type": "code",
        "colab": {}
      },
      "source": [
        "print(\"length y: \",len(y)) # labe\n",
        "print(\"shape X: \",X.shape) # of images\n",
        "print('shape X[1]', X[1].shape) # each image (96*96)\n",
        "\n"
      ],
      "execution_count": 0,
      "outputs": []
    },
    {
      "cell_type": "code",
      "metadata": {
        "id": "-f_5DvVd-nT9",
        "colab_type": "code",
        "colab": {}
      },
      "source": [
        "\n",
        "# NB = BernoulliNB()\n",
        "# NB_fit = NB.fit(X, y)\n",
        "# NB_pred = NB_fit.predict(dev_left_eye_x)\n",
        "# print(classification_report(dev_left_eye_x, NB_pred))"
      ],
      "execution_count": 0,
      "outputs": []
    },
    {
      "cell_type": "code",
      "metadata": {
        "id": "5v-7mjz__Y_D",
        "colab_type": "code",
        "colab": {}
      },
      "source": [
        ""
      ],
      "execution_count": 0,
      "outputs": []
    },
    {
      "cell_type": "code",
      "metadata": {
        "id": "uDqCnzN9g05c",
        "colab_type": "code",
        "colab": {}
      },
      "source": [
        ""
      ],
      "execution_count": 0,
      "outputs": []
    }
  ]
}